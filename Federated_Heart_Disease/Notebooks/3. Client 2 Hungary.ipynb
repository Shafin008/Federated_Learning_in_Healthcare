{
 "cells": [
  {
   "cell_type": "code",
   "execution_count": 1,
   "id": "20e333d6",
   "metadata": {},
   "outputs": [],
   "source": [
    "import numpy as np\n",
    "import pandas as pd"
   ]
  },
  {
   "cell_type": "code",
   "execution_count": 2,
   "id": "f1264caa",
   "metadata": {},
   "outputs": [
    {
     "data": {
      "text/html": [
       "<div>\n",
       "<style scoped>\n",
       "    .dataframe tbody tr th:only-of-type {\n",
       "        vertical-align: middle;\n",
       "    }\n",
       "\n",
       "    .dataframe tbody tr th {\n",
       "        vertical-align: top;\n",
       "    }\n",
       "\n",
       "    .dataframe thead th {\n",
       "        text-align: right;\n",
       "    }\n",
       "</style>\n",
       "<table border=\"1\" class=\"dataframe\">\n",
       "  <thead>\n",
       "    <tr style=\"text-align: right;\">\n",
       "      <th></th>\n",
       "      <th>age</th>\n",
       "      <th>resting_blood_pressure</th>\n",
       "      <th>cholesterol</th>\n",
       "      <th>fasting_blood_sugar</th>\n",
       "      <th>max_heart_rate_achieved</th>\n",
       "      <th>exercise_induced_angina</th>\n",
       "      <th>st_depression</th>\n",
       "      <th>sex_male</th>\n",
       "      <th>chest_pain_type_atypical angina</th>\n",
       "      <th>chest_pain_type_non-anginal pain</th>\n",
       "      <th>chest_pain_type_typical angina</th>\n",
       "      <th>rest_ecg_left ventricular hypertrophy</th>\n",
       "      <th>rest_ecg_normal</th>\n",
       "      <th>st_slope_flat</th>\n",
       "      <th>st_slope_normal</th>\n",
       "      <th>st_slope_upsloping</th>\n",
       "      <th>target</th>\n",
       "    </tr>\n",
       "  </thead>\n",
       "  <tbody>\n",
       "    <tr>\n",
       "      <th>0</th>\n",
       "      <td>65</td>\n",
       "      <td>140</td>\n",
       "      <td>252</td>\n",
       "      <td>0</td>\n",
       "      <td>135</td>\n",
       "      <td>0</td>\n",
       "      <td>0.3</td>\n",
       "      <td>1</td>\n",
       "      <td>0</td>\n",
       "      <td>0</td>\n",
       "      <td>1</td>\n",
       "      <td>0</td>\n",
       "      <td>1</td>\n",
       "      <td>0</td>\n",
       "      <td>0</td>\n",
       "      <td>1</td>\n",
       "      <td>0</td>\n",
       "    </tr>\n",
       "    <tr>\n",
       "      <th>1</th>\n",
       "      <td>50</td>\n",
       "      <td>115</td>\n",
       "      <td>0</td>\n",
       "      <td>0</td>\n",
       "      <td>120</td>\n",
       "      <td>1</td>\n",
       "      <td>0.5</td>\n",
       "      <td>1</td>\n",
       "      <td>0</td>\n",
       "      <td>0</td>\n",
       "      <td>0</td>\n",
       "      <td>0</td>\n",
       "      <td>1</td>\n",
       "      <td>1</td>\n",
       "      <td>0</td>\n",
       "      <td>0</td>\n",
       "      <td>1</td>\n",
       "    </tr>\n",
       "    <tr>\n",
       "      <th>2</th>\n",
       "      <td>49</td>\n",
       "      <td>130</td>\n",
       "      <td>0</td>\n",
       "      <td>0</td>\n",
       "      <td>145</td>\n",
       "      <td>0</td>\n",
       "      <td>3.0</td>\n",
       "      <td>1</td>\n",
       "      <td>0</td>\n",
       "      <td>0</td>\n",
       "      <td>1</td>\n",
       "      <td>0</td>\n",
       "      <td>0</td>\n",
       "      <td>1</td>\n",
       "      <td>0</td>\n",
       "      <td>0</td>\n",
       "      <td>1</td>\n",
       "    </tr>\n",
       "    <tr>\n",
       "      <th>3</th>\n",
       "      <td>59</td>\n",
       "      <td>140</td>\n",
       "      <td>274</td>\n",
       "      <td>0</td>\n",
       "      <td>154</td>\n",
       "      <td>1</td>\n",
       "      <td>2.0</td>\n",
       "      <td>1</td>\n",
       "      <td>0</td>\n",
       "      <td>0</td>\n",
       "      <td>0</td>\n",
       "      <td>0</td>\n",
       "      <td>1</td>\n",
       "      <td>1</td>\n",
       "      <td>0</td>\n",
       "      <td>0</td>\n",
       "      <td>0</td>\n",
       "    </tr>\n",
       "    <tr>\n",
       "      <th>4</th>\n",
       "      <td>62</td>\n",
       "      <td>120</td>\n",
       "      <td>0</td>\n",
       "      <td>1</td>\n",
       "      <td>134</td>\n",
       "      <td>0</td>\n",
       "      <td>-0.8</td>\n",
       "      <td>1</td>\n",
       "      <td>0</td>\n",
       "      <td>0</td>\n",
       "      <td>1</td>\n",
       "      <td>1</td>\n",
       "      <td>0</td>\n",
       "      <td>1</td>\n",
       "      <td>0</td>\n",
       "      <td>0</td>\n",
       "      <td>1</td>\n",
       "    </tr>\n",
       "  </tbody>\n",
       "</table>\n",
       "</div>"
      ],
      "text/plain": [
       "   age  resting_blood_pressure  cholesterol  fasting_blood_sugar  \\\n",
       "0   65                     140          252                    0   \n",
       "1   50                     115            0                    0   \n",
       "2   49                     130            0                    0   \n",
       "3   59                     140          274                    0   \n",
       "4   62                     120            0                    1   \n",
       "\n",
       "   max_heart_rate_achieved  exercise_induced_angina  st_depression  sex_male  \\\n",
       "0                      135                        0            0.3         1   \n",
       "1                      120                        1            0.5         1   \n",
       "2                      145                        0            3.0         1   \n",
       "3                      154                        1            2.0         1   \n",
       "4                      134                        0           -0.8         1   \n",
       "\n",
       "   chest_pain_type_atypical angina  chest_pain_type_non-anginal pain  \\\n",
       "0                                0                                 0   \n",
       "1                                0                                 0   \n",
       "2                                0                                 0   \n",
       "3                                0                                 0   \n",
       "4                                0                                 0   \n",
       "\n",
       "   chest_pain_type_typical angina  rest_ecg_left ventricular hypertrophy  \\\n",
       "0                               1                                      0   \n",
       "1                               0                                      0   \n",
       "2                               1                                      0   \n",
       "3                               0                                      0   \n",
       "4                               1                                      1   \n",
       "\n",
       "   rest_ecg_normal  st_slope_flat  st_slope_normal  st_slope_upsloping  target  \n",
       "0                1              0                0                   1       0  \n",
       "1                1              1                0                   0       1  \n",
       "2                0              1                0                   0       1  \n",
       "3                1              1                0                   0       0  \n",
       "4                0              1                0                   0       1  "
      ]
     },
     "execution_count": 2,
     "metadata": {},
     "output_type": "execute_result"
    }
   ],
   "source": [
    "dt = pd.read_csv(\"Hungarian_80%.csv\")\n",
    "dt.head()"
   ]
  },
  {
   "cell_type": "code",
   "execution_count": 3,
   "id": "9e7540be",
   "metadata": {},
   "outputs": [
    {
     "data": {
      "text/plain": [
       "(232, 17)"
      ]
     },
     "execution_count": 3,
     "metadata": {},
     "output_type": "execute_result"
    }
   ],
   "source": [
    "dt.shape"
   ]
  },
  {
   "cell_type": "code",
   "execution_count": 4,
   "id": "7135f0e0",
   "metadata": {},
   "outputs": [],
   "source": [
    "from sklearn.metrics import accuracy_score, precision_score, recall_score, f1_score\n",
    "from sklearn.model_selection import train_test_split\n",
    "from sklearn.ensemble import RandomForestClassifier\n",
    "from sklearn.model_selection import GridSearchCV"
   ]
  },
  {
   "cell_type": "code",
   "execution_count": 5,
   "id": "82dc251e",
   "metadata": {},
   "outputs": [],
   "source": [
    "features = dt.drop(\"target\", axis=1)"
   ]
  },
  {
   "cell_type": "code",
   "execution_count": 6,
   "id": "8f3263ec",
   "metadata": {},
   "outputs": [
    {
     "data": {
      "text/html": [
       "<div>\n",
       "<style scoped>\n",
       "    .dataframe tbody tr th:only-of-type {\n",
       "        vertical-align: middle;\n",
       "    }\n",
       "\n",
       "    .dataframe tbody tr th {\n",
       "        vertical-align: top;\n",
       "    }\n",
       "\n",
       "    .dataframe thead th {\n",
       "        text-align: right;\n",
       "    }\n",
       "</style>\n",
       "<table border=\"1\" class=\"dataframe\">\n",
       "  <thead>\n",
       "    <tr style=\"text-align: right;\">\n",
       "      <th></th>\n",
       "      <th>age</th>\n",
       "      <th>resting_blood_pressure</th>\n",
       "      <th>cholesterol</th>\n",
       "      <th>fasting_blood_sugar</th>\n",
       "      <th>max_heart_rate_achieved</th>\n",
       "      <th>exercise_induced_angina</th>\n",
       "      <th>st_depression</th>\n",
       "      <th>sex_male</th>\n",
       "      <th>chest_pain_type_atypical angina</th>\n",
       "      <th>chest_pain_type_non-anginal pain</th>\n",
       "      <th>chest_pain_type_typical angina</th>\n",
       "      <th>rest_ecg_left ventricular hypertrophy</th>\n",
       "      <th>rest_ecg_normal</th>\n",
       "      <th>st_slope_flat</th>\n",
       "      <th>st_slope_normal</th>\n",
       "      <th>st_slope_upsloping</th>\n",
       "      <th>target</th>\n",
       "    </tr>\n",
       "  </thead>\n",
       "  <tbody>\n",
       "    <tr>\n",
       "      <th>0</th>\n",
       "      <td>65</td>\n",
       "      <td>140</td>\n",
       "      <td>252</td>\n",
       "      <td>0</td>\n",
       "      <td>135</td>\n",
       "      <td>0</td>\n",
       "      <td>0.3</td>\n",
       "      <td>1</td>\n",
       "      <td>0</td>\n",
       "      <td>0</td>\n",
       "      <td>1</td>\n",
       "      <td>0</td>\n",
       "      <td>1</td>\n",
       "      <td>0</td>\n",
       "      <td>0</td>\n",
       "      <td>1</td>\n",
       "      <td>0</td>\n",
       "    </tr>\n",
       "    <tr>\n",
       "      <th>1</th>\n",
       "      <td>50</td>\n",
       "      <td>115</td>\n",
       "      <td>0</td>\n",
       "      <td>0</td>\n",
       "      <td>120</td>\n",
       "      <td>1</td>\n",
       "      <td>0.5</td>\n",
       "      <td>1</td>\n",
       "      <td>0</td>\n",
       "      <td>0</td>\n",
       "      <td>0</td>\n",
       "      <td>0</td>\n",
       "      <td>1</td>\n",
       "      <td>1</td>\n",
       "      <td>0</td>\n",
       "      <td>0</td>\n",
       "      <td>1</td>\n",
       "    </tr>\n",
       "    <tr>\n",
       "      <th>2</th>\n",
       "      <td>49</td>\n",
       "      <td>130</td>\n",
       "      <td>0</td>\n",
       "      <td>0</td>\n",
       "      <td>145</td>\n",
       "      <td>0</td>\n",
       "      <td>3.0</td>\n",
       "      <td>1</td>\n",
       "      <td>0</td>\n",
       "      <td>0</td>\n",
       "      <td>1</td>\n",
       "      <td>0</td>\n",
       "      <td>0</td>\n",
       "      <td>1</td>\n",
       "      <td>0</td>\n",
       "      <td>0</td>\n",
       "      <td>1</td>\n",
       "    </tr>\n",
       "    <tr>\n",
       "      <th>3</th>\n",
       "      <td>59</td>\n",
       "      <td>140</td>\n",
       "      <td>274</td>\n",
       "      <td>0</td>\n",
       "      <td>154</td>\n",
       "      <td>1</td>\n",
       "      <td>2.0</td>\n",
       "      <td>1</td>\n",
       "      <td>0</td>\n",
       "      <td>0</td>\n",
       "      <td>0</td>\n",
       "      <td>0</td>\n",
       "      <td>1</td>\n",
       "      <td>1</td>\n",
       "      <td>0</td>\n",
       "      <td>0</td>\n",
       "      <td>0</td>\n",
       "    </tr>\n",
       "    <tr>\n",
       "      <th>4</th>\n",
       "      <td>62</td>\n",
       "      <td>120</td>\n",
       "      <td>0</td>\n",
       "      <td>1</td>\n",
       "      <td>134</td>\n",
       "      <td>0</td>\n",
       "      <td>-0.8</td>\n",
       "      <td>1</td>\n",
       "      <td>0</td>\n",
       "      <td>0</td>\n",
       "      <td>1</td>\n",
       "      <td>1</td>\n",
       "      <td>0</td>\n",
       "      <td>1</td>\n",
       "      <td>0</td>\n",
       "      <td>0</td>\n",
       "      <td>1</td>\n",
       "    </tr>\n",
       "  </tbody>\n",
       "</table>\n",
       "</div>"
      ],
      "text/plain": [
       "   age  resting_blood_pressure  cholesterol  fasting_blood_sugar  \\\n",
       "0   65                     140          252                    0   \n",
       "1   50                     115            0                    0   \n",
       "2   49                     130            0                    0   \n",
       "3   59                     140          274                    0   \n",
       "4   62                     120            0                    1   \n",
       "\n",
       "   max_heart_rate_achieved  exercise_induced_angina  st_depression  sex_male  \\\n",
       "0                      135                        0            0.3         1   \n",
       "1                      120                        1            0.5         1   \n",
       "2                      145                        0            3.0         1   \n",
       "3                      154                        1            2.0         1   \n",
       "4                      134                        0           -0.8         1   \n",
       "\n",
       "   chest_pain_type_atypical angina  chest_pain_type_non-anginal pain  \\\n",
       "0                                0                                 0   \n",
       "1                                0                                 0   \n",
       "2                                0                                 0   \n",
       "3                                0                                 0   \n",
       "4                                0                                 0   \n",
       "\n",
       "   chest_pain_type_typical angina  rest_ecg_left ventricular hypertrophy  \\\n",
       "0                               1                                      0   \n",
       "1                               0                                      0   \n",
       "2                               1                                      0   \n",
       "3                               0                                      0   \n",
       "4                               1                                      1   \n",
       "\n",
       "   rest_ecg_normal  st_slope_flat  st_slope_normal  st_slope_upsloping  target  \n",
       "0                1              0                0                   1       0  \n",
       "1                1              1                0                   0       1  \n",
       "2                0              1                0                   0       1  \n",
       "3                1              1                0                   0       0  \n",
       "4                0              1                0                   0       1  "
      ]
     },
     "execution_count": 6,
     "metadata": {},
     "output_type": "execute_result"
    }
   ],
   "source": [
    "target = dt[\"target\"]\n",
    "dt.head()"
   ]
  },
  {
   "cell_type": "code",
   "execution_count": 7,
   "id": "342d4e0d",
   "metadata": {},
   "outputs": [
    {
     "name": "stdout",
     "output_type": "stream",
     "text": [
      "-----------remodeled-Training Set------------------\n",
      "(174, 16)\n",
      "(174,)\n"
     ]
    }
   ],
   "source": [
    "X_train, X_test, y_train, y_test = train_test_split(features, target, \n",
    "                                                        test_size=0.25, stratify=target,\n",
    "                                                        random_state=5)\n",
    "print('-----------remodeled-Training Set------------------')\n",
    "print(X_train.shape)\n",
    "print(y_train.shape)"
   ]
  },
  {
   "cell_type": "code",
   "execution_count": 8,
   "id": "4a949286",
   "metadata": {},
   "outputs": [],
   "source": [
    "# saving the model\n",
    "from joblib import dump, load"
   ]
  },
  {
   "cell_type": "markdown",
   "id": "29fe76f5",
   "metadata": {},
   "source": [
    "### Loading the initial federated model"
   ]
  },
  {
   "cell_type": "code",
   "execution_count": 9,
   "id": "2b6f14ca",
   "metadata": {},
   "outputs": [
    {
     "data": {
      "text/plain": [
       "RandomForestClassifier(criterion='entropy', max_depth=4, max_features='log2',\n",
       "                       n_estimators=11, random_state=1)"
      ]
     },
     "execution_count": 9,
     "metadata": {},
     "output_type": "execute_result"
    }
   ],
   "source": [
    "# loading the model from saved file\n",
    "initial_fed_model = load(\"initial_fed_model.joblib\")\n",
    "initial_fed_model"
   ]
  },
  {
   "cell_type": "code",
   "execution_count": 10,
   "id": "89adb530",
   "metadata": {},
   "outputs": [
    {
     "name": "stdout",
     "output_type": "stream",
     "text": [
      "Test Accuracy_1: 86.20689655172413\n",
      "Precision_1: 85.71428571428571\n",
      "Recall_1: 100.0\n",
      "f1_score_1: 92.3076923076923\n"
     ]
    }
   ],
   "source": [
    "model1 = initial_fed_model\n",
    "model1.fit(X_train,y_train)\n",
    "pred1 = model1.predict(X_test)\n",
    "\n",
    "acc1 = accuracy_score(y_test,pred1)\n",
    "print('Test Accuracy_1:', acc1*100)\n",
    "\n",
    "precision_1 = precision_score(y_test, pred1)\n",
    "print('Precision_1:', precision_1*100)\n",
    "\n",
    "recall_1 = recall_score(y_test, pred1)\n",
    "print('Recall_1:', recall_1*100)\n",
    "\n",
    "f1_score_1 = f1_score(y_test, pred1)\n",
    "print('f1_score_1:', f1_score_1*100)"
   ]
  },
  {
   "cell_type": "markdown",
   "id": "2e389403",
   "metadata": {},
   "source": [
    "### Further tuning on existing dataset"
   ]
  },
  {
   "cell_type": "code",
   "execution_count": 11,
   "id": "cdc94a62",
   "metadata": {},
   "outputs": [
    {
     "name": "stdout",
     "output_type": "stream",
     "text": [
      "Best hyerparameters {'criterion': 'gini', 'max_depth': 4, 'max_features': 'log2', 'n_estimators': 35}\n",
      "Test Accuracy_2: 89.65517241379311\n",
      "Precision_2: 90.38461538461539\n",
      "Recall_2: 97.91666666666666\n",
      "f1_score_2: 94.0\n"
     ]
    }
   ],
   "source": [
    "# Define the grid of hyperparameters 'params_rf'\n",
    "params_rf_1 = {'n_estimators': list(range(20,100,5)), 'max_depth': list(range(2,9)),\n",
    "             'max_features': ['log2','sqrt'], 'criterion': ['gini', 'entropy']}\n",
    "\n",
    "model1=RandomForestClassifier(random_state=1)\n",
    "\n",
    "# Instantiate a 5-fold CV grid search object 'grid_rf'\n",
    "grid_rf_1 = GridSearchCV(estimator=model1, param_grid=params_rf_1, scoring='accuracy', cv=5, n_jobs=-1)\n",
    "\n",
    "grid_rf_1.fit(X_train, y_train)\n",
    "\n",
    "# Extract best model from 'grid_rf'\n",
    "best_model1 = grid_rf_1.best_estimator_\n",
    "\n",
    "# Extract best hyperparameters from 'grid_rf'\n",
    "best_hyperparams_1 = grid_rf_1.best_params_\n",
    "print('Best hyerparameters', best_hyperparams_1)\n",
    "\n",
    "# Evaluate test set accuracy\n",
    "pred2 = best_model1.predict(X_test)\n",
    "\n",
    "test_acc2 = accuracy_score(y_test, pred2)\n",
    "print('Test Accuracy_2:', test_acc2*100)\n",
    "\n",
    "precision_2 = precision_score(y_test, pred2)\n",
    "print('Precision_2:', precision_2*100)\n",
    "\n",
    "recall_2 = recall_score(y_test, pred2)\n",
    "print('Recall_2:', recall_2*100)\n",
    "\n",
    "f1_score_2 = f1_score(y_test, pred2)\n",
    "print('f1_score_2:', f1_score_2*100)"
   ]
  },
  {
   "cell_type": "markdown",
   "id": "06be8540",
   "metadata": {},
   "source": [
    "### Saving the tuned model for federated server"
   ]
  },
  {
   "cell_type": "code",
   "execution_count": 12,
   "id": "e5e93c31",
   "metadata": {
    "scrolled": true
   },
   "outputs": [
    {
     "data": {
      "text/plain": [
       "['client_hungarian_1.joblib']"
      ]
     },
     "execution_count": 12,
     "metadata": {},
     "output_type": "execute_result"
    }
   ],
   "source": [
    "dump(best_model1, \"client_hungarian_1.joblib\")"
   ]
  },
  {
   "cell_type": "markdown",
   "id": "ba72642a",
   "metadata": {},
   "source": [
    "### Loading the tuned federated model"
   ]
  },
  {
   "cell_type": "code",
   "execution_count": 13,
   "id": "e479426f",
   "metadata": {},
   "outputs": [
    {
     "data": {
      "text/plain": [
       "RandomForestClassifier(criterion='entropy', max_depth=7, max_features='log2',\n",
       "                       n_estimators=30, random_state=1)"
      ]
     },
     "execution_count": 13,
     "metadata": {},
     "output_type": "execute_result"
    }
   ],
   "source": [
    "# loading the model from saved file\n",
    "fed_model_2 = load(\"fed_model_2.joblib\")\n",
    "fed_model_2"
   ]
  },
  {
   "cell_type": "code",
   "execution_count": 14,
   "id": "2eb0e333",
   "metadata": {},
   "outputs": [
    {
     "name": "stdout",
     "output_type": "stream",
     "text": [
      "Test Accuracy_3: 91.37931034482759\n",
      "Precision_3: 90.56603773584906\n",
      "Recall_3: 100.0\n",
      "f1_score_3: 95.04950495049505\n"
     ]
    }
   ],
   "source": [
    "model3 = fed_model_2\n",
    "model3.fit(X_train,y_train)\n",
    "pred3 = model3.predict(X_test)\n",
    "\n",
    "acc3 = accuracy_score(y_test,pred3)\n",
    "print('Test Accuracy_3:', acc3*100)\n",
    "\n",
    "precision_3 = precision_score(y_test, pred3)\n",
    "print('Precision_3:', precision_3*100)\n",
    "\n",
    "recall_3 = recall_score(y_test, pred3)\n",
    "print('Recall_3:', recall_1*100)\n",
    "\n",
    "f1_score_3 = f1_score(y_test, pred3)\n",
    "print('f1_score_3:', f1_score_3*100)"
   ]
  },
  {
   "cell_type": "code",
   "execution_count": null,
   "id": "a22b610b",
   "metadata": {},
   "outputs": [],
   "source": []
  },
  {
   "cell_type": "markdown",
   "id": "5c7cd642",
   "metadata": {},
   "source": [
    "###  Dataset with newly added sample(Phase 2)"
   ]
  },
  {
   "cell_type": "code",
   "execution_count": 15,
   "id": "e9329db0",
   "metadata": {},
   "outputs": [
    {
     "data": {
      "text/html": [
       "<div>\n",
       "<style scoped>\n",
       "    .dataframe tbody tr th:only-of-type {\n",
       "        vertical-align: middle;\n",
       "    }\n",
       "\n",
       "    .dataframe tbody tr th {\n",
       "        vertical-align: top;\n",
       "    }\n",
       "\n",
       "    .dataframe thead th {\n",
       "        text-align: right;\n",
       "    }\n",
       "</style>\n",
       "<table border=\"1\" class=\"dataframe\">\n",
       "  <thead>\n",
       "    <tr style=\"text-align: right;\">\n",
       "      <th></th>\n",
       "      <th>age</th>\n",
       "      <th>resting_blood_pressure</th>\n",
       "      <th>cholesterol</th>\n",
       "      <th>fasting_blood_sugar</th>\n",
       "      <th>max_heart_rate_achieved</th>\n",
       "      <th>exercise_induced_angina</th>\n",
       "      <th>st_depression</th>\n",
       "      <th>target</th>\n",
       "      <th>sex_male</th>\n",
       "      <th>chest_pain_type_atypical angina</th>\n",
       "      <th>chest_pain_type_non-anginal pain</th>\n",
       "      <th>chest_pain_type_typical angina</th>\n",
       "      <th>rest_ecg_left ventricular hypertrophy</th>\n",
       "      <th>rest_ecg_normal</th>\n",
       "      <th>st_slope_flat</th>\n",
       "      <th>st_slope_normal</th>\n",
       "      <th>st_slope_upsloping</th>\n",
       "    </tr>\n",
       "  </thead>\n",
       "  <tbody>\n",
       "    <tr>\n",
       "      <th>0</th>\n",
       "      <td>53</td>\n",
       "      <td>125</td>\n",
       "      <td>0</td>\n",
       "      <td>1</td>\n",
       "      <td>120</td>\n",
       "      <td>0</td>\n",
       "      <td>1.5</td>\n",
       "      <td>1</td>\n",
       "      <td>1</td>\n",
       "      <td>0</td>\n",
       "      <td>0</td>\n",
       "      <td>0</td>\n",
       "      <td>0</td>\n",
       "      <td>1</td>\n",
       "      <td>0</td>\n",
       "      <td>0</td>\n",
       "      <td>1</td>\n",
       "    </tr>\n",
       "    <tr>\n",
       "      <th>1</th>\n",
       "      <td>62</td>\n",
       "      <td>120</td>\n",
       "      <td>0</td>\n",
       "      <td>1</td>\n",
       "      <td>123</td>\n",
       "      <td>1</td>\n",
       "      <td>1.7</td>\n",
       "      <td>1</td>\n",
       "      <td>0</td>\n",
       "      <td>0</td>\n",
       "      <td>0</td>\n",
       "      <td>0</td>\n",
       "      <td>0</td>\n",
       "      <td>0</td>\n",
       "      <td>0</td>\n",
       "      <td>0</td>\n",
       "      <td>0</td>\n",
       "    </tr>\n",
       "    <tr>\n",
       "      <th>2</th>\n",
       "      <td>51</td>\n",
       "      <td>95</td>\n",
       "      <td>0</td>\n",
       "      <td>1</td>\n",
       "      <td>126</td>\n",
       "      <td>0</td>\n",
       "      <td>2.2</td>\n",
       "      <td>1</td>\n",
       "      <td>1</td>\n",
       "      <td>0</td>\n",
       "      <td>0</td>\n",
       "      <td>0</td>\n",
       "      <td>0</td>\n",
       "      <td>1</td>\n",
       "      <td>1</td>\n",
       "      <td>0</td>\n",
       "      <td>0</td>\n",
       "    </tr>\n",
       "    <tr>\n",
       "      <th>3</th>\n",
       "      <td>51</td>\n",
       "      <td>120</td>\n",
       "      <td>0</td>\n",
       "      <td>1</td>\n",
       "      <td>127</td>\n",
       "      <td>1</td>\n",
       "      <td>1.5</td>\n",
       "      <td>1</td>\n",
       "      <td>0</td>\n",
       "      <td>0</td>\n",
       "      <td>0</td>\n",
       "      <td>0</td>\n",
       "      <td>0</td>\n",
       "      <td>1</td>\n",
       "      <td>0</td>\n",
       "      <td>0</td>\n",
       "      <td>1</td>\n",
       "    </tr>\n",
       "    <tr>\n",
       "      <th>4</th>\n",
       "      <td>55</td>\n",
       "      <td>115</td>\n",
       "      <td>0</td>\n",
       "      <td>1</td>\n",
       "      <td>155</td>\n",
       "      <td>0</td>\n",
       "      <td>0.1</td>\n",
       "      <td>1</td>\n",
       "      <td>1</td>\n",
       "      <td>0</td>\n",
       "      <td>0</td>\n",
       "      <td>0</td>\n",
       "      <td>0</td>\n",
       "      <td>1</td>\n",
       "      <td>1</td>\n",
       "      <td>0</td>\n",
       "      <td>0</td>\n",
       "    </tr>\n",
       "  </tbody>\n",
       "</table>\n",
       "</div>"
      ],
      "text/plain": [
       "   age  resting_blood_pressure  cholesterol  fasting_blood_sugar  \\\n",
       "0   53                     125            0                    1   \n",
       "1   62                     120            0                    1   \n",
       "2   51                      95            0                    1   \n",
       "3   51                     120            0                    1   \n",
       "4   55                     115            0                    1   \n",
       "\n",
       "   max_heart_rate_achieved  exercise_induced_angina  st_depression  target  \\\n",
       "0                      120                        0            1.5       1   \n",
       "1                      123                        1            1.7       1   \n",
       "2                      126                        0            2.2       1   \n",
       "3                      127                        1            1.5       1   \n",
       "4                      155                        0            0.1       1   \n",
       "\n",
       "   sex_male  chest_pain_type_atypical angina  \\\n",
       "0         1                                0   \n",
       "1         0                                0   \n",
       "2         1                                0   \n",
       "3         0                                0   \n",
       "4         1                                0   \n",
       "\n",
       "   chest_pain_type_non-anginal pain  chest_pain_type_typical angina  \\\n",
       "0                                 0                               0   \n",
       "1                                 0                               0   \n",
       "2                                 0                               0   \n",
       "3                                 0                               0   \n",
       "4                                 0                               0   \n",
       "\n",
       "   rest_ecg_left ventricular hypertrophy  rest_ecg_normal  st_slope_flat  \\\n",
       "0                                      0                1              0   \n",
       "1                                      0                0              0   \n",
       "2                                      0                1              1   \n",
       "3                                      0                1              0   \n",
       "4                                      0                1              1   \n",
       "\n",
       "   st_slope_normal  st_slope_upsloping  \n",
       "0                0                   1  \n",
       "1                0                   0  \n",
       "2                0                   0  \n",
       "3                0                   1  \n",
       "4                0                   0  "
      ]
     },
     "execution_count": 15,
     "metadata": {},
     "output_type": "execute_result"
    }
   ],
   "source": [
    "df = pd.read_csv(\"Hungary_Full.csv\")\n",
    "df.head()"
   ]
  },
  {
   "cell_type": "code",
   "execution_count": 16,
   "id": "79d5e88c",
   "metadata": {},
   "outputs": [
    {
     "data": {
      "text/plain": [
       "(291, 17)"
      ]
     },
     "execution_count": 16,
     "metadata": {},
     "output_type": "execute_result"
    }
   ],
   "source": [
    "df.shape"
   ]
  },
  {
   "cell_type": "code",
   "execution_count": 17,
   "id": "1edf49cf",
   "metadata": {},
   "outputs": [],
   "source": [
    "X = df.drop(\"target\", axis=1)"
   ]
  },
  {
   "cell_type": "code",
   "execution_count": 18,
   "id": "430903c0",
   "metadata": {},
   "outputs": [],
   "source": [
    "y = df[\"target\"]"
   ]
  },
  {
   "cell_type": "code",
   "execution_count": 19,
   "id": "0b74a1fa",
   "metadata": {},
   "outputs": [
    {
     "name": "stdout",
     "output_type": "stream",
     "text": [
      "-----------remodeled-Training Set------------------\n",
      "(218, 16)\n",
      "(218,)\n"
     ]
    }
   ],
   "source": [
    "X_train2, X_test2, y_train2, y_test2 = train_test_split(X, y, \n",
    "                                                        test_size=0.25, stratify=y,\n",
    "                                                        random_state=5)\n",
    "print('-----------remodeled-Training Set------------------')\n",
    "print(X_train2.shape)\n",
    "print(y_train2.shape)"
   ]
  },
  {
   "cell_type": "markdown",
   "id": "94eb72aa",
   "metadata": {},
   "source": [
    "### Using the federated models parameters to evaluate dataset with new samples"
   ]
  },
  {
   "cell_type": "code",
   "execution_count": 27,
   "id": "3f19a3c7",
   "metadata": {},
   "outputs": [
    {
     "name": "stdout",
     "output_type": "stream",
     "text": [
      "RandomForestClassifier(criterion='entropy', max_depth=7, max_features='log2',\n",
      "                       n_estimators=35, random_state=1)\n",
      "Test Accuracy_4: 90.41095890410958\n",
      "Precision_4: 89.55223880597015\n",
      "Recall_4: 100.0\n",
      "f1_score_4: 94.48818897637796\n"
     ]
    }
   ],
   "source": [
    "# loading the model from saved file\n",
    "fed_model_3 = load(\"fed_model_3.joblib\")\n",
    "print(fed_model_3)\n",
    "\n",
    "model4 = fed_model_3\n",
    "model4.fit(X_train2,y_train2)\n",
    "pred4 = model4.predict(X_test2)\n",
    "\n",
    "acc4 = accuracy_score(y_test2,pred4)\n",
    "print('Test Accuracy_4:', acc4*100)\n",
    "\n",
    "precision_4 = precision_score(y_test2, pred4)\n",
    "print('Precision_4:', precision_4*100)\n",
    "\n",
    "recall_4 = recall_score(y_test2, pred4)\n",
    "print('Recall_4:', recall_4*100)\n",
    "\n",
    "f1_score_4 = f1_score(y_test2, pred4)\n",
    "print('f1_score_4:', f1_score_4*100)"
   ]
  },
  {
   "cell_type": "code",
   "execution_count": null,
   "id": "15fcfddc",
   "metadata": {},
   "outputs": [],
   "source": []
  }
 ],
 "metadata": {
  "kernelspec": {
   "display_name": "Python 3 (ipykernel)",
   "language": "python",
   "name": "python3"
  },
  "language_info": {
   "codemirror_mode": {
    "name": "ipython",
    "version": 3
   },
   "file_extension": ".py",
   "mimetype": "text/x-python",
   "name": "python",
   "nbconvert_exporter": "python",
   "pygments_lexer": "ipython3",
   "version": "3.9.7"
  }
 },
 "nbformat": 4,
 "nbformat_minor": 5
}
