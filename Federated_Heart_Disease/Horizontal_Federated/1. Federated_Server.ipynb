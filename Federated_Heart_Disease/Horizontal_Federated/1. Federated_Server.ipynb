{
 "cells": [
  {
   "cell_type": "markdown",
   "id": "6d977517",
   "metadata": {},
   "source": [
    "## Implementing Horizontal Federated Learning with Random Forest In Healthcare Sector"
   ]
  },
  {
   "cell_type": "markdown",
   "id": "db321b3a",
   "metadata": {},
   "source": [
    "## Project overview\n",
    "\n",
    "1. We'll demonstrate this project by using 5 heart disease datasets.\n",
    "\n",
    "\n",
    "2. All the datasets have been pre-processed by us. We won't show any data pre-processing steps here. But We'll use these pre-processed datasets throughout this code implementation.\n",
    "\n",
    "\n",
    "3. This whole process can be implemented only in Horizontal Federated learning.\n",
    "\n",
    "\n",
    "4. In this project we considered two clients(two hospitals data: Cleveland, Hungary). \n",
    "\n",
    "\n",
    "5. Our federated server also has it's own local data. We made this data by merging 3 other hospitals data.\n",
    "\n",
    "## Steps: \n",
    "\n",
    "### Phase 1:\n",
    "\n",
    "1. First, We'll initiate a Random Forest model in our federated central server. Eventually we'll get moderate evaluation metrics for our server data. Then we'll save the model for sending the parameters to our clients.\n",
    "\n",
    "\n",
    "2. Then, We'll send the initial models parameters to both of our clients. We'll use the initial federated models parameters to run Random Forest models in our clients server. \n",
    "\n",
    "\n",
    "3. After that, we'll tune the models of our clients. If the evaluation metrics improves we'll save the tuned models.\n",
    "\n",
    "\n",
    "4. Then we'll send both of the models tuned parameters(not the data) to the federated server and see if the federated models accuracy improves or not.\n",
    "\n",
    "### Phase 2:\n",
    "\n",
    "1. We'll increase our data in federated server as well as in our clients server. We'll do this because these type of data never stays the same(online data). New data can be added anytime.\n",
    "\n",
    "\n",
    "2. We'll do the same process for our increased data to see if the accuracy is changed or not."
   ]
  },
  {
   "cell_type": "markdown",
   "id": "d2b1d702",
   "metadata": {},
   "source": [
    "<img src='method.jpeg' width = 450px>"
   ]
  },
  {
   "cell_type": "code",
   "execution_count": 1,
   "id": "b7924ef5",
   "metadata": {},
   "outputs": [],
   "source": [
    "import pandas as pd\n",
    "import numpy as np\n",
    "from scipy import stats\n",
    "from joblib import dump, load"
   ]
  },
  {
   "cell_type": "code",
   "execution_count": 2,
   "id": "cba4f81f",
   "metadata": {
    "scrolled": true
   },
   "outputs": [
    {
     "data": {
      "text/html": [
       "<div>\n",
       "<style scoped>\n",
       "    .dataframe tbody tr th:only-of-type {\n",
       "        vertical-align: middle;\n",
       "    }\n",
       "\n",
       "    .dataframe tbody tr th {\n",
       "        vertical-align: top;\n",
       "    }\n",
       "\n",
       "    .dataframe thead th {\n",
       "        text-align: right;\n",
       "    }\n",
       "</style>\n",
       "<table border=\"1\" class=\"dataframe\">\n",
       "  <thead>\n",
       "    <tr style=\"text-align: right;\">\n",
       "      <th></th>\n",
       "      <th>age</th>\n",
       "      <th>resting_blood_pressure</th>\n",
       "      <th>cholesterol</th>\n",
       "      <th>fasting_blood_sugar</th>\n",
       "      <th>max_heart_rate_achieved</th>\n",
       "      <th>exercise_induced_angina</th>\n",
       "      <th>st_depression</th>\n",
       "      <th>sex_male</th>\n",
       "      <th>chest_pain_type_atypical angina</th>\n",
       "      <th>chest_pain_type_non-anginal pain</th>\n",
       "      <th>chest_pain_type_typical angina</th>\n",
       "      <th>rest_ecg_left ventricular hypertrophy</th>\n",
       "      <th>rest_ecg_normal</th>\n",
       "      <th>st_slope_flat</th>\n",
       "      <th>st_slope_upsloping</th>\n",
       "      <th>target</th>\n",
       "    </tr>\n",
       "  </thead>\n",
       "  <tbody>\n",
       "    <tr>\n",
       "      <th>0</th>\n",
       "      <td>40</td>\n",
       "      <td>140</td>\n",
       "      <td>199</td>\n",
       "      <td>0</td>\n",
       "      <td>178</td>\n",
       "      <td>1</td>\n",
       "      <td>1.4</td>\n",
       "      <td>1</td>\n",
       "      <td>0</td>\n",
       "      <td>0</td>\n",
       "      <td>1</td>\n",
       "      <td>0</td>\n",
       "      <td>1</td>\n",
       "      <td>0</td>\n",
       "      <td>1</td>\n",
       "      <td>0</td>\n",
       "    </tr>\n",
       "    <tr>\n",
       "      <th>1</th>\n",
       "      <td>42</td>\n",
       "      <td>120</td>\n",
       "      <td>295</td>\n",
       "      <td>0</td>\n",
       "      <td>162</td>\n",
       "      <td>0</td>\n",
       "      <td>0.0</td>\n",
       "      <td>1</td>\n",
       "      <td>1</td>\n",
       "      <td>0</td>\n",
       "      <td>0</td>\n",
       "      <td>0</td>\n",
       "      <td>1</td>\n",
       "      <td>0</td>\n",
       "      <td>1</td>\n",
       "      <td>0</td>\n",
       "    </tr>\n",
       "    <tr>\n",
       "      <th>2</th>\n",
       "      <td>54</td>\n",
       "      <td>108</td>\n",
       "      <td>309</td>\n",
       "      <td>0</td>\n",
       "      <td>156</td>\n",
       "      <td>0</td>\n",
       "      <td>0.0</td>\n",
       "      <td>1</td>\n",
       "      <td>1</td>\n",
       "      <td>0</td>\n",
       "      <td>0</td>\n",
       "      <td>0</td>\n",
       "      <td>1</td>\n",
       "      <td>0</td>\n",
       "      <td>1</td>\n",
       "      <td>0</td>\n",
       "    </tr>\n",
       "    <tr>\n",
       "      <th>3</th>\n",
       "      <td>58</td>\n",
       "      <td>125</td>\n",
       "      <td>220</td>\n",
       "      <td>0</td>\n",
       "      <td>144</td>\n",
       "      <td>0</td>\n",
       "      <td>0.4</td>\n",
       "      <td>1</td>\n",
       "      <td>1</td>\n",
       "      <td>0</td>\n",
       "      <td>0</td>\n",
       "      <td>0</td>\n",
       "      <td>1</td>\n",
       "      <td>1</td>\n",
       "      <td>0</td>\n",
       "      <td>0</td>\n",
       "    </tr>\n",
       "    <tr>\n",
       "      <th>4</th>\n",
       "      <td>58</td>\n",
       "      <td>120</td>\n",
       "      <td>340</td>\n",
       "      <td>0</td>\n",
       "      <td>172</td>\n",
       "      <td>0</td>\n",
       "      <td>0.0</td>\n",
       "      <td>0</td>\n",
       "      <td>0</td>\n",
       "      <td>1</td>\n",
       "      <td>0</td>\n",
       "      <td>0</td>\n",
       "      <td>1</td>\n",
       "      <td>0</td>\n",
       "      <td>1</td>\n",
       "      <td>0</td>\n",
       "    </tr>\n",
       "  </tbody>\n",
       "</table>\n",
       "</div>"
      ],
      "text/plain": [
       "   age  resting_blood_pressure  cholesterol  fasting_blood_sugar  \\\n",
       "0   40                     140          199                    0   \n",
       "1   42                     120          295                    0   \n",
       "2   54                     108          309                    0   \n",
       "3   58                     125          220                    0   \n",
       "4   58                     120          340                    0   \n",
       "\n",
       "   max_heart_rate_achieved  exercise_induced_angina  st_depression  sex_male  \\\n",
       "0                      178                        1            1.4         1   \n",
       "1                      162                        0            0.0         1   \n",
       "2                      156                        0            0.0         1   \n",
       "3                      144                        0            0.4         1   \n",
       "4                      172                        0            0.0         0   \n",
       "\n",
       "   chest_pain_type_atypical angina  chest_pain_type_non-anginal pain  \\\n",
       "0                                0                                 0   \n",
       "1                                1                                 0   \n",
       "2                                1                                 0   \n",
       "3                                1                                 0   \n",
       "4                                0                                 1   \n",
       "\n",
       "   chest_pain_type_typical angina  rest_ecg_left ventricular hypertrophy  \\\n",
       "0                               1                                      0   \n",
       "1                               0                                      0   \n",
       "2                               0                                      0   \n",
       "3                               0                                      0   \n",
       "4                               0                                      0   \n",
       "\n",
       "   rest_ecg_normal  st_slope_flat  st_slope_upsloping  target  \n",
       "0                1              0                   1       0  \n",
       "1                1              0                   1       0  \n",
       "2                1              0                   1       0  \n",
       "3                1              1                   0       0  \n",
       "4                1              0                   1       0  "
      ]
     },
     "execution_count": 2,
     "metadata": {},
     "output_type": "execute_result"
    }
   ],
   "source": [
    "dt = pd.read_csv(\"federated_80%.csv\")\n",
    "dt.head()"
   ]
  },
  {
   "cell_type": "code",
   "execution_count": 3,
   "id": "6b5d1e8e",
   "metadata": {},
   "outputs": [
    {
     "data": {
      "text/plain": [
       "(463, 16)"
      ]
     },
     "execution_count": 3,
     "metadata": {},
     "output_type": "execute_result"
    }
   ],
   "source": [
    "dt.shape"
   ]
  },
  {
   "cell_type": "code",
   "execution_count": 4,
   "id": "b9ebdad4",
   "metadata": {},
   "outputs": [],
   "source": [
    "features =dt.drop(\"target\", axis=1)"
   ]
  },
  {
   "cell_type": "code",
   "execution_count": 5,
   "id": "4ee92cac",
   "metadata": {},
   "outputs": [],
   "source": [
    "target = dt[\"target\"]"
   ]
  },
  {
   "cell_type": "code",
   "execution_count": 6,
   "id": "a53551a5",
   "metadata": {},
   "outputs": [],
   "source": [
    "from sklearn.model_selection import train_test_split"
   ]
  },
  {
   "cell_type": "code",
   "execution_count": 7,
   "id": "2ac05899",
   "metadata": {},
   "outputs": [
    {
     "name": "stdout",
     "output_type": "stream",
     "text": [
      "-----------remodeled-Training Set------------------\n",
      "(324, 15)\n",
      "(324,)\n"
     ]
    }
   ],
   "source": [
    "X_train, X_test, y_train, y_test = train_test_split(features, target, \n",
    "                                                        test_size=0.3, stratify=target,\n",
    "                                                        random_state=5)\n",
    "print('-----------remodeled-Training Set------------------')\n",
    "print(X_train.shape)\n",
    "print(y_train.shape)"
   ]
  },
  {
   "cell_type": "code",
   "execution_count": 8,
   "id": "d98211a9",
   "metadata": {},
   "outputs": [],
   "source": [
    "from sklearn.metrics import accuracy_score, precision_score, recall_score, f1_score\n",
    "from sklearn.ensemble import RandomForestClassifier\n",
    "from sklearn.model_selection import GridSearchCV"
   ]
  },
  {
   "cell_type": "markdown",
   "id": "8c5cc5fb",
   "metadata": {},
   "source": [
    "### Initiating our initial federated model"
   ]
  },
  {
   "cell_type": "code",
   "execution_count": 9,
   "id": "055c013c",
   "metadata": {},
   "outputs": [
    {
     "name": "stdout",
     "output_type": "stream",
     "text": [
      "Best hyerparameters: {'criterion': 'entropy', 'max_depth': 4, 'max_features': 'log2', 'n_estimators': 11}\n",
      "Test Accuracy: 81.29496402877699\n",
      "Precision_1: 87.75510204081633\n",
      "Recall_1: 68.25396825396825\n",
      "f1_score_1: 76.78571428571428\n"
     ]
    }
   ],
   "source": [
    "model1 = RandomForestClassifier(random_state=1)\n",
    "\n",
    "# Define the grid of hyperparameters 'params_rf'\n",
    "params_rf = {'n_estimators': list(range(1,21,5)), 'max_depth': list(range(2,5)),\n",
    "             'max_features': ['log2','sqrt'], 'criterion': ['gini', 'entropy']}\n",
    "\n",
    "# Instantiate a 5-fold CV grid search object 'grid_rf'\n",
    "grid_rf = GridSearchCV(estimator=model1, param_grid=params_rf, scoring='accuracy', cv=5, n_jobs=-1)\n",
    "\n",
    "grid_rf.fit(X_train, y_train)\n",
    "\n",
    "# Extract best model from 'grid_rf'\n",
    "best_model1 = grid_rf.best_estimator_\n",
    "\n",
    "# Extract best hyperparameters from 'grid_rf'\n",
    "best_hyperparams = grid_rf.best_params_\n",
    "print('Best hyerparameters:', best_hyperparams)\n",
    "\n",
    "# Evaluate test set accuracy\n",
    "pred1 = best_model1.predict(X_test)\n",
    "\n",
    "test_acc1 = accuracy_score(y_test, pred1)\n",
    "print('Test Accuracy:', test_acc1*100)\n",
    "\n",
    "precision_1 = precision_score(y_test, pred1)\n",
    "print('Precision_1:', precision_1*100)\n",
    "\n",
    "recall_1 = recall_score(y_test, pred1)\n",
    "print('Recall_1:', recall_1*100)\n",
    "\n",
    "f1_score_1 = f1_score(y_test, pred1)\n",
    "print('f1_score_1:', f1_score_1*100)"
   ]
  },
  {
   "cell_type": "markdown",
   "id": "63e5c30c",
   "metadata": {},
   "source": [
    "### Saving the initial federated model"
   ]
  },
  {
   "cell_type": "code",
   "execution_count": 10,
   "id": "87851dcf",
   "metadata": {},
   "outputs": [],
   "source": [
    "# saving the model\n",
    "from joblib import dump, load"
   ]
  },
  {
   "cell_type": "code",
   "execution_count": 11,
   "id": "49181f48",
   "metadata": {},
   "outputs": [
    {
     "data": {
      "text/plain": [
       "['initial_fed_model.joblib']"
      ]
     },
     "execution_count": 11,
     "metadata": {},
     "output_type": "execute_result"
    }
   ],
   "source": [
    "dump(best_model1, \"initial_fed_model.joblib\")"
   ]
  },
  {
   "cell_type": "markdown",
   "id": "c384f6d4",
   "metadata": {},
   "source": [
    "### Helper Functions to receive parameters from clients"
   ]
  },
  {
   "cell_type": "code",
   "execution_count": 12,
   "id": "69ebdf30",
   "metadata": {},
   "outputs": [],
   "source": [
    "def no_repeat(lst):\n",
    "    new_lst = []\n",
    "    for i in lst:\n",
    "        if i not in new_lst:\n",
    "            new_lst.append(i)\n",
    "        else:\n",
    "            pass\n",
    "    return new_lst"
   ]
  },
  {
   "cell_type": "code",
   "execution_count": 13,
   "id": "9392665e",
   "metadata": {},
   "outputs": [],
   "source": [
    "def parameters(model_lst):\n",
    "    all_models = []\n",
    "\n",
    "    md = []\n",
    "    mf = []\n",
    "    ne = []\n",
    "    cr = []\n",
    "    \n",
    "    parameters = {}\n",
    "    \n",
    "    for i in range(len(model_lst)):\n",
    "        \n",
    "        loaded_model = load(model_lst[i])\n",
    "        all_models.append(loaded_model)\n",
    "        \n",
    "        md.append(all_models[i].max_depth)\n",
    "        mf.append(all_models[i].max_features)\n",
    "        ne.append(all_models[i].n_estimators)\n",
    "        cr.append(all_models[i].criterion)\n",
    "        \n",
    "        parameters['max_depth'] = no_repeat(md)\n",
    "        parameters['max_features'] = no_repeat(mf)\n",
    "        parameters['n_estimators'] = no_repeat(ne)\n",
    "        parameters['criterion'] = no_repeat(cr)\n",
    "\n",
    "    return parameters"
   ]
  },
  {
   "cell_type": "code",
   "execution_count": 14,
   "id": "53c99e6f",
   "metadata": {},
   "outputs": [
    {
     "name": "stdout",
     "output_type": "stream",
     "text": [
      "client_cleveland_1: RandomForestClassifier(max_depth=7, max_features='log2', n_estimators=85,\n",
      "                       random_state=1)\n",
      "client_hungarian_1: RandomForestClassifier(max_depth=4, max_features='log2', n_estimators=35,\n",
      "                       random_state=1)\n"
     ]
    }
   ],
   "source": [
    "# loading the model from saved file\n",
    "client_cleveland_1 = load(\"client_cleveland_1.joblib\")\n",
    "print('client_cleveland_1:', client_cleveland_1)\n",
    "\n",
    "# loading the model from saved file\n",
    "client_hungarian_1  = load(\"client_hungarian_1.joblib\")\n",
    "print('client_hungarian_1:', client_hungarian_1)"
   ]
  },
  {
   "cell_type": "code",
   "execution_count": 15,
   "id": "41207c4c",
   "metadata": {},
   "outputs": [
    {
     "data": {
      "text/plain": [
       "{'max_depth': [7, 4],\n",
       " 'max_features': ['log2'],\n",
       " 'n_estimators': [85, 35],\n",
       " 'criterion': ['gini']}"
      ]
     },
     "execution_count": 15,
     "metadata": {},
     "output_type": "execute_result"
    }
   ],
   "source": [
    "clients = [\"client_cleveland_1.joblib\", \"client_hungarian_1.joblib\"]\n",
    "params_rf = parameters(clients)\n",
    "params_rf"
   ]
  },
  {
   "cell_type": "markdown",
   "id": "dd6ae466",
   "metadata": {},
   "source": [
    "### Using the parameters from our clients to our federated model "
   ]
  },
  {
   "cell_type": "code",
   "execution_count": 16,
   "id": "168aab5b",
   "metadata": {},
   "outputs": [
    {
     "name": "stdout",
     "output_type": "stream",
     "text": [
      "Best hyerparameters {'criterion': 'gini', 'max_depth': 7, 'max_features': 'log2', 'n_estimators': 35}\n",
      "Test Accuracy_2: 87.05035971223022\n",
      "Precision_2: 94.11764705882352\n",
      "Recall_2: 76.19047619047619\n",
      "f1_score_1: 84.21052631578947\n"
     ]
    }
   ],
   "source": [
    "model1=RandomForestClassifier(random_state=1)\n",
    "\n",
    "# Instantiate a 5-fold CV grid search object 'grid_rf'\n",
    "grid_rf2 = GridSearchCV(estimator=model1, param_grid=params_rf, scoring='accuracy', cv=5, n_jobs=-1)\n",
    "\n",
    "grid_rf2.fit(X_train, y_train)\n",
    "\n",
    "# Extract best model from 'grid_rf'\n",
    "best_model2 = grid_rf2.best_estimator_\n",
    "\n",
    "# Extract best hyperparameters from 'grid_rf'\n",
    "best_hyperparams2 = grid_rf2.best_params_\n",
    "print('Best hyerparameters', best_hyperparams2)\n",
    "\n",
    "# Evaluate test set accuracy\n",
    "pred2= best_model2.predict(X_test)\n",
    "\n",
    "test_acc2 = accuracy_score(y_test, pred2)\n",
    "print('Test Accuracy_2:', test_acc2*100)\n",
    "\n",
    "precision_2 = precision_score(y_test, pred2)\n",
    "print('Precision_2:', precision_2*100)\n",
    "\n",
    "recall_2 = recall_score(y_test, pred2)\n",
    "print('Recall_2:', recall_2*100)\n",
    "\n",
    "f1_score_2 = f1_score(y_test, pred2)\n",
    "print('f1_score_1:', f1_score_2*100)"
   ]
  },
  {
   "cell_type": "markdown",
   "id": "ee4fd6fa",
   "metadata": {},
   "source": [
    "### Further tuning the federated model"
   ]
  },
  {
   "cell_type": "code",
   "execution_count": 17,
   "id": "a0eb0c71",
   "metadata": {},
   "outputs": [
    {
     "name": "stdout",
     "output_type": "stream",
     "text": [
      "Best hyerparameters {'criterion': 'entropy', 'max_depth': 7, 'max_features': 'log2', 'n_estimators': 30}\n",
      "Test Accuracy_3: 87.76978417266187\n",
      "Precision_3: 92.5925925925926\n",
      "Recall_3: 79.36507936507937\n",
      "f1_score_3: 85.47008547008546\n"
     ]
    }
   ],
   "source": [
    "# Define the grid of hyperparameters 'params_rf'\n",
    "params_rf3 = {'n_estimators': list(range(20,150,10)), 'max_depth': list(range(3,8)),\n",
    "             'max_features': ['log2','sqrt'], 'criterion': ['gini', 'entropy']}\n",
    "\n",
    "\n",
    "# Instantiate a 5-fold CV grid search object 'grid_rf'\n",
    "grid_rf3 = GridSearchCV(estimator=model1, param_grid=params_rf3, scoring='accuracy', cv=5, n_jobs=-1)\n",
    "\n",
    "grid_rf3.fit(X_train, y_train)\n",
    "\n",
    "# Extract best model from 'grid_rf'\n",
    "best_model3 = grid_rf3.best_estimator_\n",
    "\n",
    "# Extract best hyperparameters from 'grid_rf'\n",
    "best_hyperparams3 = grid_rf3.best_params_\n",
    "print('Best hyerparameters', best_hyperparams3)\n",
    "\n",
    "# Evaluate test set accuracy\n",
    "pred3= best_model3.predict(X_test)\n",
    "\n",
    "test_acc3 = accuracy_score(y_test, pred3)\n",
    "print('Test Accuracy_3:', test_acc3*100)\n",
    "\n",
    "precision_3 = precision_score(y_test, pred3)\n",
    "print('Precision_3:', precision_3*100)\n",
    "\n",
    "recall_3 = recall_score(y_test, pred3)\n",
    "print('Recall_3:', recall_3*100)\n",
    "\n",
    "f1_score_3 = f1_score(y_test, pred3)\n",
    "print('f1_score_3:', f1_score_3*100)"
   ]
  },
  {
   "cell_type": "code",
   "execution_count": 18,
   "id": "7c52ce68",
   "metadata": {},
   "outputs": [
    {
     "data": {
      "text/plain": [
       "['fed_model_2.joblib']"
      ]
     },
     "execution_count": 18,
     "metadata": {},
     "output_type": "execute_result"
    }
   ],
   "source": [
    "dump(best_model3, \"fed_model_2.joblib\")"
   ]
  },
  {
   "cell_type": "code",
   "execution_count": null,
   "id": "10c56a46",
   "metadata": {},
   "outputs": [],
   "source": []
  },
  {
   "cell_type": "markdown",
   "id": "2a1d19d8",
   "metadata": {},
   "source": [
    "## FL with newly added data (Phase: 2)"
   ]
  },
  {
   "cell_type": "code",
   "execution_count": 19,
   "id": "d4b25d41",
   "metadata": {
    "scrolled": true
   },
   "outputs": [
    {
     "data": {
      "text/html": [
       "<div>\n",
       "<style scoped>\n",
       "    .dataframe tbody tr th:only-of-type {\n",
       "        vertical-align: middle;\n",
       "    }\n",
       "\n",
       "    .dataframe tbody tr th {\n",
       "        vertical-align: top;\n",
       "    }\n",
       "\n",
       "    .dataframe thead th {\n",
       "        text-align: right;\n",
       "    }\n",
       "</style>\n",
       "<table border=\"1\" class=\"dataframe\">\n",
       "  <thead>\n",
       "    <tr style=\"text-align: right;\">\n",
       "      <th></th>\n",
       "      <th>age</th>\n",
       "      <th>resting_blood_pressure</th>\n",
       "      <th>cholesterol</th>\n",
       "      <th>fasting_blood_sugar</th>\n",
       "      <th>max_heart_rate_achieved</th>\n",
       "      <th>exercise_induced_angina</th>\n",
       "      <th>st_depression</th>\n",
       "      <th>target</th>\n",
       "      <th>sex_male</th>\n",
       "      <th>chest_pain_type_atypical angina</th>\n",
       "      <th>chest_pain_type_non-anginal pain</th>\n",
       "      <th>chest_pain_type_typical angina</th>\n",
       "      <th>rest_ecg_left ventricular hypertrophy</th>\n",
       "      <th>rest_ecg_normal</th>\n",
       "      <th>st_slope_flat</th>\n",
       "      <th>st_slope_upsloping</th>\n",
       "    </tr>\n",
       "  </thead>\n",
       "  <tbody>\n",
       "    <tr>\n",
       "      <th>0</th>\n",
       "      <td>57</td>\n",
       "      <td>165</td>\n",
       "      <td>289</td>\n",
       "      <td>1</td>\n",
       "      <td>124</td>\n",
       "      <td>0</td>\n",
       "      <td>1.0</td>\n",
       "      <td>1</td>\n",
       "      <td>1</td>\n",
       "      <td>0</td>\n",
       "      <td>0</td>\n",
       "      <td>0</td>\n",
       "      <td>1</td>\n",
       "      <td>0</td>\n",
       "      <td>1</td>\n",
       "      <td>0</td>\n",
       "    </tr>\n",
       "    <tr>\n",
       "      <th>1</th>\n",
       "      <td>63</td>\n",
       "      <td>130</td>\n",
       "      <td>254</td>\n",
       "      <td>0</td>\n",
       "      <td>147</td>\n",
       "      <td>0</td>\n",
       "      <td>1.4</td>\n",
       "      <td>1</td>\n",
       "      <td>1</td>\n",
       "      <td>0</td>\n",
       "      <td>0</td>\n",
       "      <td>0</td>\n",
       "      <td>1</td>\n",
       "      <td>0</td>\n",
       "      <td>1</td>\n",
       "      <td>0</td>\n",
       "    </tr>\n",
       "    <tr>\n",
       "      <th>2</th>\n",
       "      <td>48</td>\n",
       "      <td>124</td>\n",
       "      <td>274</td>\n",
       "      <td>0</td>\n",
       "      <td>166</td>\n",
       "      <td>0</td>\n",
       "      <td>0.5</td>\n",
       "      <td>1</td>\n",
       "      <td>1</td>\n",
       "      <td>0</td>\n",
       "      <td>0</td>\n",
       "      <td>0</td>\n",
       "      <td>1</td>\n",
       "      <td>0</td>\n",
       "      <td>1</td>\n",
       "      <td>0</td>\n",
       "    </tr>\n",
       "    <tr>\n",
       "      <th>3</th>\n",
       "      <td>51</td>\n",
       "      <td>100</td>\n",
       "      <td>222</td>\n",
       "      <td>0</td>\n",
       "      <td>143</td>\n",
       "      <td>1</td>\n",
       "      <td>1.2</td>\n",
       "      <td>0</td>\n",
       "      <td>1</td>\n",
       "      <td>0</td>\n",
       "      <td>1</td>\n",
       "      <td>0</td>\n",
       "      <td>0</td>\n",
       "      <td>1</td>\n",
       "      <td>1</td>\n",
       "      <td>0</td>\n",
       "    </tr>\n",
       "    <tr>\n",
       "      <th>4</th>\n",
       "      <td>60</td>\n",
       "      <td>150</td>\n",
       "      <td>258</td>\n",
       "      <td>0</td>\n",
       "      <td>157</td>\n",
       "      <td>0</td>\n",
       "      <td>2.6</td>\n",
       "      <td>1</td>\n",
       "      <td>0</td>\n",
       "      <td>0</td>\n",
       "      <td>0</td>\n",
       "      <td>0</td>\n",
       "      <td>1</td>\n",
       "      <td>0</td>\n",
       "      <td>1</td>\n",
       "      <td>0</td>\n",
       "    </tr>\n",
       "  </tbody>\n",
       "</table>\n",
       "</div>"
      ],
      "text/plain": [
       "   age  resting_blood_pressure  cholesterol  fasting_blood_sugar  \\\n",
       "0   57                     165          289                    1   \n",
       "1   63                     130          254                    0   \n",
       "2   48                     124          274                    0   \n",
       "3   51                     100          222                    0   \n",
       "4   60                     150          258                    0   \n",
       "\n",
       "   max_heart_rate_achieved  exercise_induced_angina  st_depression  target  \\\n",
       "0                      124                        0            1.0       1   \n",
       "1                      147                        0            1.4       1   \n",
       "2                      166                        0            0.5       1   \n",
       "3                      143                        1            1.2       0   \n",
       "4                      157                        0            2.6       1   \n",
       "\n",
       "   sex_male  chest_pain_type_atypical angina  \\\n",
       "0         1                                0   \n",
       "1         1                                0   \n",
       "2         1                                0   \n",
       "3         1                                0   \n",
       "4         0                                0   \n",
       "\n",
       "   chest_pain_type_non-anginal pain  chest_pain_type_typical angina  \\\n",
       "0                                 0                               0   \n",
       "1                                 0                               0   \n",
       "2                                 0                               0   \n",
       "3                                 1                               0   \n",
       "4                                 0                               0   \n",
       "\n",
       "   rest_ecg_left ventricular hypertrophy  rest_ecg_normal  st_slope_flat  \\\n",
       "0                                      1                0              1   \n",
       "1                                      1                0              1   \n",
       "2                                      1                0              1   \n",
       "3                                      0                1              1   \n",
       "4                                      1                0              1   \n",
       "\n",
       "   st_slope_upsloping  \n",
       "0                   0  \n",
       "1                   0  \n",
       "2                   0  \n",
       "3                   0  \n",
       "4                   0  "
      ]
     },
     "execution_count": 19,
     "metadata": {},
     "output_type": "execute_result"
    }
   ],
   "source": [
    "df = pd.read_csv(\"federated_full.csv\")\n",
    "df.head()"
   ]
  },
  {
   "cell_type": "code",
   "execution_count": 20,
   "id": "12448eb7",
   "metadata": {},
   "outputs": [
    {
     "data": {
      "text/plain": [
       "(579, 16)"
      ]
     },
     "execution_count": 20,
     "metadata": {},
     "output_type": "execute_result"
    }
   ],
   "source": [
    "df.shape"
   ]
  },
  {
   "cell_type": "code",
   "execution_count": 21,
   "id": "ada69b62",
   "metadata": {},
   "outputs": [
    {
     "name": "stdout",
     "output_type": "stream",
     "text": [
      "-----------remodeled-Training Set------------------\n",
      "(434, 15)\n",
      "(434,)\n",
      "------------Test Set------------------\n",
      "(145, 15)\n",
      "(145,)\n"
     ]
    }
   ],
   "source": [
    "X = df.drop(\"target\", axis=1)\n",
    "y = df[\"target\"]\n",
    "\n",
    "X_train2, X_test2, y_train2, y_test2 = train_test_split(X, y, \n",
    "                                                        test_size=0.25, stratify=y,\n",
    "                                                        random_state=5)\n",
    "print('-----------remodeled-Training Set------------------')\n",
    "print(X_train2.shape)\n",
    "print(y_train2.shape)\n",
    "\n",
    "print('------------Test Set------------------')\n",
    "print(X_test2.shape)\n",
    "print(y_test2.shape)"
   ]
  },
  {
   "cell_type": "markdown",
   "id": "09bc8bc2",
   "metadata": {},
   "source": [
    "### Tuning dataset with newly added samples"
   ]
  },
  {
   "cell_type": "code",
   "execution_count": 36,
   "id": "91ff5547",
   "metadata": {},
   "outputs": [
    {
     "name": "stdout",
     "output_type": "stream",
     "text": [
      "Best hyerparameters {'criterion': 'entropy', 'max_depth': 7, 'max_features': 'log2', 'n_estimators': 35}\n",
      "Test Accuracy_4: 92.41379310344827\n",
      "Precision_4: 95.08196721311475\n",
      "Recall_4: 87.87878787878788\n",
      "f1_score_4: 91.33858267716536\n"
     ]
    }
   ],
   "source": [
    "# Define the grid of hyperparameters 'params_rf'\n",
    "params_rf4 = {'n_estimators': list(range(30, 40, 5)), 'max_depth': list(range(2,8)),\n",
    "             'max_features': ['log2','sqrt'], 'criterion': ['gini', 'entropy']}\n",
    "\n",
    "\n",
    "# Instantiate a 5-fold CV grid search object 'grid_rf'\n",
    "grid_rf4 = GridSearchCV(estimator=model1, param_grid=params_rf4, scoring='accuracy', cv=5, n_jobs=-1)\n",
    "\n",
    "grid_rf4.fit(X_train2, y_train2)\n",
    "\n",
    "# Extract best model from 'grid_rf'\n",
    "best_model4 = grid_rf4.best_estimator_\n",
    "\n",
    "# Extract best hyperparameters from 'grid_rf'\n",
    "best_hyperparams4 = grid_rf4.best_params_\n",
    "print('Best hyerparameters', best_hyperparams4)\n",
    "\n",
    "# Evaluate test set accuracy\n",
    "pred4= best_model4.predict(X_test2)\n",
    "\n",
    "test_acc4 = accuracy_score(y_test2, pred4)\n",
    "print('Test Accuracy_4:', test_acc4*100)\n",
    "\n",
    "precision_4 = precision_score(y_test2, pred4)\n",
    "print('Precision_4:', precision_4*100)\n",
    "\n",
    "recall_4 = recall_score(y_test2, pred4)\n",
    "print('Recall_4:', recall_4*100)\n",
    "\n",
    "f1_score_4 = f1_score(y_test2, pred4)\n",
    "print('f1_score_4:', f1_score_4*100)"
   ]
  },
  {
   "cell_type": "markdown",
   "id": "6111c8ff",
   "metadata": {},
   "source": [
    "### Saving the model for clients"
   ]
  },
  {
   "cell_type": "code",
   "execution_count": 37,
   "id": "2f6b854f",
   "metadata": {
    "scrolled": true
   },
   "outputs": [
    {
     "data": {
      "text/plain": [
       "['fed_model_3.joblib']"
      ]
     },
     "execution_count": 37,
     "metadata": {},
     "output_type": "execute_result"
    }
   ],
   "source": [
    "dump(best_model4, \"fed_model_3.joblib\")"
   ]
  },
  {
   "cell_type": "code",
   "execution_count": null,
   "id": "0dac5aa9",
   "metadata": {},
   "outputs": [],
   "source": []
  },
  {
   "cell_type": "code",
   "execution_count": null,
   "id": "05d558ce",
   "metadata": {},
   "outputs": [],
   "source": []
  }
 ],
 "metadata": {
  "kernelspec": {
   "display_name": "Python 3 (ipykernel)",
   "language": "python",
   "name": "python3"
  },
  "language_info": {
   "codemirror_mode": {
    "name": "ipython",
    "version": 3
   },
   "file_extension": ".py",
   "mimetype": "text/x-python",
   "name": "python",
   "nbconvert_exporter": "python",
   "pygments_lexer": "ipython3",
   "version": "3.8.13"
  }
 },
 "nbformat": 4,
 "nbformat_minor": 5
}
