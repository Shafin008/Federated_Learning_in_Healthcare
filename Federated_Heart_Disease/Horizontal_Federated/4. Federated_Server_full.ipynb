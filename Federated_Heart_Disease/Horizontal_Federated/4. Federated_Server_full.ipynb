{
 "cells": [
  {
   "cell_type": "markdown",
   "id": "6d977517",
   "metadata": {},
   "source": [
    "## Implementing Horizontal Federated Learning with Random Forest In Healthcare Sector"
   ]
  },
  {
   "cell_type": "markdown",
   "id": "db321b3a",
   "metadata": {},
   "source": [
    "## Project overview\n",
    "\n",
    "1. We'll demonstrate this project by using 5 heart disease datasets.\n",
    "\n",
    "\n",
    "2. All the datasets have been pre-processed by us. We won't show any data pre-processing steps here. But We'll use these pre-processed datasets throughout this code implementation.\n",
    "\n",
    "\n",
    "3. This whole process can be implemented only in Horizontal Federated learning.\n",
    "\n",
    "\n",
    "4. In this project we considered two clients(two hospitals data: Cleveland, Hungary). \n",
    "\n",
    "\n",
    "5. Our federated server also has it's own local data. We made this data by merging 3 other hospitals data.\n",
    "\n",
    "## Steps: \n",
    "\n",
    "### Phase 1:\n",
    "\n",
    "1. First, We'll initiate a Random Forest model in our federated central server. Eventually we'll get moderate evaluation metrics for our server data. Then we'll save the model for sending the parameters to our clients.\n",
    "\n",
    "\n",
    "2. Then, We'll send the initial models parameters to both of our clients. We'll use the initial federated models parameters to run Random Forest models in our clients server. \n",
    "\n",
    "\n",
    "3. After that, we'll tune the models of our clients. If the evaluation metrics improves we'll save the tuned models.\n",
    "\n",
    "\n",
    "4. Then we'll send both of the models tuned parameters(not the data) to the federated server and see if the federated models accuracy improves or not.\n",
    "\n",
    "### Phase 2:\n",
    "\n",
    "1. We'll increase our data in federated server as well as in our clients server. We'll do this because these type of data never stays the same(online data). New data can be added anytime.\n",
    "\n",
    "\n",
    "2. We'll do the same process for our increased data to see if the accuracy is changed or not."
   ]
  },
  {
   "cell_type": "markdown",
   "id": "d2b1d702",
   "metadata": {},
   "source": [
    "<img src='method.jpeg' width = 450px>"
   ]
  },
  {
   "cell_type": "code",
   "execution_count": 1,
   "id": "b7924ef5",
   "metadata": {},
   "outputs": [],
   "source": [
    "import pandas as pd\n",
    "import numpy as np\n",
    "from scipy import stats\n",
    "from joblib import dump, load\n",
    "from sklearn.model_selection import train_test_split\n",
    "from sklearn.metrics import accuracy_score, precision_score, recall_score, f1_score\n",
    "from sklearn.ensemble import RandomForestClassifier\n",
    "from sklearn.model_selection import GridSearchCV\n",
    "# saving the model\n",
    "from joblib import dump, load"
   ]
  },
  {
   "cell_type": "markdown",
   "id": "c384f6d4",
   "metadata": {},
   "source": [
    "### Helper Functions to receive parameters from clients"
   ]
  },
  {
   "cell_type": "code",
   "execution_count": 2,
   "id": "69ebdf30",
   "metadata": {},
   "outputs": [],
   "source": [
    "def no_repeat(lst):\n",
    "    new_lst = []\n",
    "    for i in lst:\n",
    "        if i not in new_lst:\n",
    "            new_lst.append(i)\n",
    "        else:\n",
    "            pass\n",
    "    return new_lst"
   ]
  },
  {
   "cell_type": "code",
   "execution_count": 3,
   "id": "9392665e",
   "metadata": {},
   "outputs": [],
   "source": [
    "def parameters(model_lst):\n",
    "    all_models = []\n",
    "\n",
    "    md = []\n",
    "    mf = []\n",
    "    ne = []\n",
    "    cr = []\n",
    "    \n",
    "    parameters = {}\n",
    "    \n",
    "    for i in range(len(model_lst)):\n",
    "        \n",
    "        loaded_model = load(model_lst[i])\n",
    "        all_models.append(loaded_model)\n",
    "        \n",
    "        md.append(all_models[i].max_depth)\n",
    "        mf.append(all_models[i].max_features)\n",
    "        ne.append(all_models[i].n_estimators)\n",
    "        cr.append(all_models[i].criterion)\n",
    "        \n",
    "        parameters['max_depth'] = no_repeat(md)\n",
    "        parameters['max_features'] = no_repeat(mf)\n",
    "        parameters['n_estimators'] = no_repeat(ne)\n",
    "        parameters['criterion'] = no_repeat(cr)\n",
    "\n",
    "    return parameters"
   ]
  },
  {
   "cell_type": "markdown",
   "id": "2a1d19d8",
   "metadata": {},
   "source": [
    "## FL with newly added data (Phase: 2)"
   ]
  },
  {
   "cell_type": "code",
   "execution_count": 4,
   "id": "d4b25d41",
   "metadata": {
    "scrolled": true
   },
   "outputs": [
    {
     "data": {
      "text/html": [
       "<div>\n",
       "<style scoped>\n",
       "    .dataframe tbody tr th:only-of-type {\n",
       "        vertical-align: middle;\n",
       "    }\n",
       "\n",
       "    .dataframe tbody tr th {\n",
       "        vertical-align: top;\n",
       "    }\n",
       "\n",
       "    .dataframe thead th {\n",
       "        text-align: right;\n",
       "    }\n",
       "</style>\n",
       "<table border=\"1\" class=\"dataframe\">\n",
       "  <thead>\n",
       "    <tr style=\"text-align: right;\">\n",
       "      <th></th>\n",
       "      <th>age</th>\n",
       "      <th>resting_blood_pressure</th>\n",
       "      <th>cholesterol</th>\n",
       "      <th>fasting_blood_sugar</th>\n",
       "      <th>max_heart_rate_achieved</th>\n",
       "      <th>exercise_induced_angina</th>\n",
       "      <th>st_depression</th>\n",
       "      <th>target</th>\n",
       "      <th>sex_male</th>\n",
       "      <th>chest_pain_type_atypical angina</th>\n",
       "      <th>chest_pain_type_non-anginal pain</th>\n",
       "      <th>chest_pain_type_typical angina</th>\n",
       "      <th>rest_ecg_left ventricular hypertrophy</th>\n",
       "      <th>rest_ecg_normal</th>\n",
       "      <th>st_slope_flat</th>\n",
       "      <th>st_slope_upsloping</th>\n",
       "    </tr>\n",
       "  </thead>\n",
       "  <tbody>\n",
       "    <tr>\n",
       "      <th>0</th>\n",
       "      <td>57</td>\n",
       "      <td>165</td>\n",
       "      <td>289</td>\n",
       "      <td>1</td>\n",
       "      <td>124</td>\n",
       "      <td>0</td>\n",
       "      <td>1.0</td>\n",
       "      <td>1</td>\n",
       "      <td>1</td>\n",
       "      <td>0</td>\n",
       "      <td>0</td>\n",
       "      <td>0</td>\n",
       "      <td>1</td>\n",
       "      <td>0</td>\n",
       "      <td>1</td>\n",
       "      <td>0</td>\n",
       "    </tr>\n",
       "    <tr>\n",
       "      <th>1</th>\n",
       "      <td>63</td>\n",
       "      <td>130</td>\n",
       "      <td>254</td>\n",
       "      <td>0</td>\n",
       "      <td>147</td>\n",
       "      <td>0</td>\n",
       "      <td>1.4</td>\n",
       "      <td>1</td>\n",
       "      <td>1</td>\n",
       "      <td>0</td>\n",
       "      <td>0</td>\n",
       "      <td>0</td>\n",
       "      <td>1</td>\n",
       "      <td>0</td>\n",
       "      <td>1</td>\n",
       "      <td>0</td>\n",
       "    </tr>\n",
       "    <tr>\n",
       "      <th>2</th>\n",
       "      <td>48</td>\n",
       "      <td>124</td>\n",
       "      <td>274</td>\n",
       "      <td>0</td>\n",
       "      <td>166</td>\n",
       "      <td>0</td>\n",
       "      <td>0.5</td>\n",
       "      <td>1</td>\n",
       "      <td>1</td>\n",
       "      <td>0</td>\n",
       "      <td>0</td>\n",
       "      <td>0</td>\n",
       "      <td>1</td>\n",
       "      <td>0</td>\n",
       "      <td>1</td>\n",
       "      <td>0</td>\n",
       "    </tr>\n",
       "    <tr>\n",
       "      <th>3</th>\n",
       "      <td>51</td>\n",
       "      <td>100</td>\n",
       "      <td>222</td>\n",
       "      <td>0</td>\n",
       "      <td>143</td>\n",
       "      <td>1</td>\n",
       "      <td>1.2</td>\n",
       "      <td>0</td>\n",
       "      <td>1</td>\n",
       "      <td>0</td>\n",
       "      <td>1</td>\n",
       "      <td>0</td>\n",
       "      <td>0</td>\n",
       "      <td>1</td>\n",
       "      <td>1</td>\n",
       "      <td>0</td>\n",
       "    </tr>\n",
       "    <tr>\n",
       "      <th>4</th>\n",
       "      <td>60</td>\n",
       "      <td>150</td>\n",
       "      <td>258</td>\n",
       "      <td>0</td>\n",
       "      <td>157</td>\n",
       "      <td>0</td>\n",
       "      <td>2.6</td>\n",
       "      <td>1</td>\n",
       "      <td>0</td>\n",
       "      <td>0</td>\n",
       "      <td>0</td>\n",
       "      <td>0</td>\n",
       "      <td>1</td>\n",
       "      <td>0</td>\n",
       "      <td>1</td>\n",
       "      <td>0</td>\n",
       "    </tr>\n",
       "  </tbody>\n",
       "</table>\n",
       "</div>"
      ],
      "text/plain": [
       "   age  resting_blood_pressure  cholesterol  fasting_blood_sugar  \\\n",
       "0   57                     165          289                    1   \n",
       "1   63                     130          254                    0   \n",
       "2   48                     124          274                    0   \n",
       "3   51                     100          222                    0   \n",
       "4   60                     150          258                    0   \n",
       "\n",
       "   max_heart_rate_achieved  exercise_induced_angina  st_depression  target  \\\n",
       "0                      124                        0            1.0       1   \n",
       "1                      147                        0            1.4       1   \n",
       "2                      166                        0            0.5       1   \n",
       "3                      143                        1            1.2       0   \n",
       "4                      157                        0            2.6       1   \n",
       "\n",
       "   sex_male  chest_pain_type_atypical angina  \\\n",
       "0         1                                0   \n",
       "1         1                                0   \n",
       "2         1                                0   \n",
       "3         1                                0   \n",
       "4         0                                0   \n",
       "\n",
       "   chest_pain_type_non-anginal pain  chest_pain_type_typical angina  \\\n",
       "0                                 0                               0   \n",
       "1                                 0                               0   \n",
       "2                                 0                               0   \n",
       "3                                 1                               0   \n",
       "4                                 0                               0   \n",
       "\n",
       "   rest_ecg_left ventricular hypertrophy  rest_ecg_normal  st_slope_flat  \\\n",
       "0                                      1                0              1   \n",
       "1                                      1                0              1   \n",
       "2                                      1                0              1   \n",
       "3                                      0                1              1   \n",
       "4                                      1                0              1   \n",
       "\n",
       "   st_slope_upsloping  \n",
       "0                   0  \n",
       "1                   0  \n",
       "2                   0  \n",
       "3                   0  \n",
       "4                   0  "
      ]
     },
     "execution_count": 4,
     "metadata": {},
     "output_type": "execute_result"
    }
   ],
   "source": [
    "df = pd.read_csv(\"federated_full.csv\")\n",
    "df.head()"
   ]
  },
  {
   "cell_type": "code",
   "execution_count": 5,
   "id": "12448eb7",
   "metadata": {},
   "outputs": [
    {
     "data": {
      "text/plain": [
       "(579, 16)"
      ]
     },
     "execution_count": 5,
     "metadata": {},
     "output_type": "execute_result"
    }
   ],
   "source": [
    "df.shape"
   ]
  },
  {
   "cell_type": "code",
   "execution_count": 6,
   "id": "ada69b62",
   "metadata": {
    "scrolled": true
   },
   "outputs": [
    {
     "name": "stdout",
     "output_type": "stream",
     "text": [
      "-----------remodeled-Training Set------------------\n",
      "(434, 15)\n",
      "(434,)\n",
      "------------Test Set------------------\n",
      "(145, 15)\n",
      "(145,)\n"
     ]
    }
   ],
   "source": [
    "X = df.drop(\"target\", axis=1)\n",
    "y = df[\"target\"]\n",
    "\n",
    "X_train2, X_test2, y_train2, y_test2 = train_test_split(X, y, \n",
    "                                                        test_size=0.25, stratify=y,\n",
    "                                                        random_state=5)\n",
    "print('-----------remodeled-Training Set------------------')\n",
    "print(X_train2.shape)\n",
    "print(y_train2.shape)\n",
    "\n",
    "print('------------Test Set------------------')\n",
    "print(X_test2.shape)\n",
    "print(y_test2.shape)"
   ]
  },
  {
   "cell_type": "code",
   "execution_count": 7,
   "id": "ba5c1db3",
   "metadata": {},
   "outputs": [],
   "source": [
    "model1=RandomForestClassifier(random_state=1)"
   ]
  },
  {
   "cell_type": "markdown",
   "id": "09bc8bc2",
   "metadata": {},
   "source": [
    "### Tuning dataset with newly added samples"
   ]
  },
  {
   "cell_type": "markdown",
   "id": "d269455a",
   "metadata": {},
   "source": [
    "# 1"
   ]
  },
  {
   "cell_type": "code",
   "execution_count": 8,
   "id": "91ff5547",
   "metadata": {},
   "outputs": [
    {
     "name": "stdout",
     "output_type": "stream",
     "text": [
      "Best hyerparameters {'criterion': 'entropy', 'max_depth': 6, 'max_features': 'log2', 'n_estimators': 50}\n",
      "Test Accuracy_4: 88.27586206896552\n",
      "Precision_4: 90.1639344262295\n",
      "Recall_4: 83.33333333333334\n",
      "f1_score_4: 86.61417322834646\n"
     ]
    }
   ],
   "source": [
    "# Define the grid of hyperparameters 'params_rf'\n",
    "params_rf4 = {'n_estimators': list(range(50,100,5)), 'max_depth': list(range(3,7)),\n",
    "             'max_features': ['log2','sqrt'], 'criterion': ['gini', 'entropy']}\n",
    "\n",
    "\n",
    "# Instantiate a 5-fold CV grid search object 'grid_rf'\n",
    "grid_rf4 = GridSearchCV(estimator=model1, param_grid=params_rf4, scoring='accuracy', cv=5, n_jobs=-1)\n",
    "\n",
    "grid_rf4.fit(X_train2, y_train2)\n",
    "\n",
    "# Extract best model from 'grid_rf'\n",
    "best_model4 = grid_rf4.best_estimator_\n",
    "\n",
    "# Extract best hyperparameters from 'grid_rf'\n",
    "best_hyperparams4 = grid_rf4.best_params_\n",
    "print('Best hyerparameters', best_hyperparams4)\n",
    "\n",
    "# Evaluate test set accuracy\n",
    "pred4= best_model4.predict(X_test2)\n",
    "\n",
    "test_acc4 = accuracy_score(y_test2, pred4)\n",
    "print('Test Accuracy_4:', test_acc4*100)\n",
    "\n",
    "precision_4 = precision_score(y_test2, pred4)\n",
    "print('Precision_4:', precision_4*100)\n",
    "\n",
    "recall_4 = recall_score(y_test2, pred4)\n",
    "print('Recall_4:', recall_4*100)\n",
    "\n",
    "f1_score_4 = f1_score(y_test2, pred4)\n",
    "print('f1_score_4:', f1_score_4*100)"
   ]
  },
  {
   "cell_type": "markdown",
   "id": "6111c8ff",
   "metadata": {},
   "source": [
    "### Saving the model for clients"
   ]
  },
  {
   "cell_type": "code",
   "execution_count": 9,
   "id": "2f6b854f",
   "metadata": {
    "scrolled": true
   },
   "outputs": [
    {
     "data": {
      "text/plain": [
       "['fed_model_3.joblib']"
      ]
     },
     "execution_count": 9,
     "metadata": {},
     "output_type": "execute_result"
    }
   ],
   "source": [
    "dump(best_model4, \"fed_model_3.joblib\")"
   ]
  },
  {
   "cell_type": "markdown",
   "id": "388c61da",
   "metadata": {},
   "source": [
    "# 2"
   ]
  },
  {
   "cell_type": "code",
   "execution_count": 10,
   "id": "05d558ce",
   "metadata": {},
   "outputs": [
    {
     "data": {
      "text/plain": [
       "{'max_depth': [4, 5],\n",
       " 'max_features': ['log2'],\n",
       " 'n_estimators': [90, 60],\n",
       " 'criterion': ['gini']}"
      ]
     },
     "execution_count": 10,
     "metadata": {},
     "output_type": "execute_result"
    }
   ],
   "source": [
    "clients = [\"client_cleveland_3.joblib\", \"client_hungarian_3.joblib\"]\n",
    "params_rf_5 = parameters(clients)\n",
    "params_rf_5"
   ]
  },
  {
   "cell_type": "code",
   "execution_count": 11,
   "id": "2e94894f",
   "metadata": {},
   "outputs": [
    {
     "name": "stdout",
     "output_type": "stream",
     "text": [
      "Best hyerparameters {'criterion': 'gini', 'max_depth': 5, 'max_features': 'log2', 'n_estimators': 90}\n",
      "Test Accuracy_5: 85.51724137931035\n",
      "Precision_5: 86.88524590163934\n",
      "Recall_5: 80.3030303030303\n",
      "f1_score_5: 83.46456692913385\n"
     ]
    }
   ],
   "source": [
    "model1=RandomForestClassifier(random_state=1)\n",
    "\n",
    "# Instantiate a 5-fold CV grid search object 'grid_rf'\n",
    "# Instantiate a 5-fold CV grid search object 'grid_rf'\n",
    "grid_rf_5 = GridSearchCV(estimator=model1, param_grid=params_rf_5, scoring='accuracy', cv=5, n_jobs=-1)\n",
    "\n",
    "grid_rf_5.fit(X_train2, y_train2)\n",
    "\n",
    "# Extract best model from 'grid_rf'\n",
    "best_model5 = grid_rf_5.best_estimator_\n",
    "\n",
    "# Extract best hyperparameters from 'grid_rf'\n",
    "best_hyperparams_5 = grid_rf_5.best_params_\n",
    "print('Best hyerparameters', best_hyperparams_5)\n",
    "\n",
    "# Evaluate test set accuracy\n",
    "pred5 = best_model5.predict(X_test2)\n",
    "\n",
    "test_acc5 = accuracy_score(y_test2, pred5)\n",
    "print('Test Accuracy_5:', test_acc5*100)\n",
    "\n",
    "precision_5 = precision_score(y_test2, pred5)\n",
    "print('Precision_5:', precision_5*100)\n",
    "\n",
    "recall_5 = recall_score(y_test2, pred5)\n",
    "print('Recall_5:', recall_5*100)\n",
    "\n",
    "f1_score_5 = f1_score(y_test2, pred5)\n",
    "print('f1_score_5:', f1_score_5*100)"
   ]
  },
  {
   "cell_type": "markdown",
   "id": "09b0a3c3",
   "metadata": {},
   "source": [
    "# 3"
   ]
  },
  {
   "cell_type": "code",
   "execution_count": 41,
   "id": "1782e11d",
   "metadata": {},
   "outputs": [
    {
     "name": "stdout",
     "output_type": "stream",
     "text": [
      "Best hyerparameters {'criterion': 'entropy', 'max_depth': 9, 'max_features': 'log2', 'n_estimators': 65}\n",
      "Test Accuracy_6: 95.86206896551724\n",
      "Precision_6: 96.875\n",
      "Recall_6: 93.93939393939394\n",
      "f1_score_6: 95.38461538461539\n"
     ]
    }
   ],
   "source": [
    "params_rf_6 = {'n_estimators': list(range(50,100,5)), 'max_depth': list(range(3,10)),\n",
    "             'max_features': ['log2','sqrt'], 'criterion': ['gini', 'entropy']}\n",
    "\n",
    "# params_rf4 = {'n_estimators': list(range(30, 80, 5)), 'max_depth': list(range(2,9)),\n",
    "#              'max_features': ['log2','sqrt'], 'criterion': ['gini', 'entropy']}\n",
    "\n",
    "grid_rf_6 = GridSearchCV(estimator=model1, param_grid=params_rf_6, scoring='accuracy', cv=5, n_jobs=-1)\n",
    "\n",
    "grid_rf_6.fit(X_train2, y_train2)\n",
    "\n",
    "# Extract best model from 'grid_rf'\n",
    "best_model6 = grid_rf_6.best_estimator_\n",
    "\n",
    "# Extract best hyperparameters from 'grid_rf'\n",
    "best_hyperparams_6 = grid_rf_6.best_params_\n",
    "print('Best hyerparameters', best_hyperparams_6)\n",
    "\n",
    "# Evaluate test set accuracy\n",
    "pred6 = best_model6.predict(X_test2)\n",
    "\n",
    "test_acc6 = accuracy_score(y_test2, pred6)\n",
    "print('Test Accuracy_6:', test_acc6*100)\n",
    "\n",
    "precision_6 = precision_score(y_test2, pred6)\n",
    "print('Precision_6:', precision_6*100)\n",
    "\n",
    "recall_6 = recall_score(y_test2, pred6)\n",
    "print('Recall_6:', recall_6*100)\n",
    "\n",
    "f1_score_6 = f1_score(y_test2, pred6)\n",
    "print('f1_score_6:', f1_score_6*100)"
   ]
  },
  {
   "cell_type": "code",
   "execution_count": 42,
   "id": "0a386701",
   "metadata": {},
   "outputs": [
    {
     "data": {
      "text/plain": [
       "['fed_model_4.joblib']"
      ]
     },
     "execution_count": 42,
     "metadata": {},
     "output_type": "execute_result"
    }
   ],
   "source": [
    "dump(best_model6, \"fed_model_4.joblib\")"
   ]
  }
 ],
 "metadata": {
  "kernelspec": {
   "display_name": "Python 3 (ipykernel)",
   "language": "python",
   "name": "python3"
  },
  "language_info": {
   "codemirror_mode": {
    "name": "ipython",
    "version": 3
   },
   "file_extension": ".py",
   "mimetype": "text/x-python",
   "name": "python",
   "nbconvert_exporter": "python",
   "pygments_lexer": "ipython3",
   "version": "3.9.7"
  }
 },
 "nbformat": 4,
 "nbformat_minor": 5
}
