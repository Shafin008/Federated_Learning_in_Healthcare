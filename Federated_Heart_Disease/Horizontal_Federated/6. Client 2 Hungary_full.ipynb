{
 "cells": [
  {
   "cell_type": "code",
   "execution_count": 1,
   "id": "20e333d6",
   "metadata": {},
   "outputs": [],
   "source": [
    "import numpy as np\n",
    "import pandas as pd"
   ]
  },
  {
   "cell_type": "code",
   "execution_count": 2,
   "id": "7135f0e0",
   "metadata": {},
   "outputs": [],
   "source": [
    "from sklearn.metrics import accuracy_score, precision_score, recall_score, f1_score\n",
    "from sklearn.model_selection import train_test_split\n",
    "from sklearn.ensemble import RandomForestClassifier\n",
    "from sklearn.model_selection import GridSearchCV"
   ]
  },
  {
   "cell_type": "code",
   "execution_count": 3,
   "id": "4a949286",
   "metadata": {},
   "outputs": [],
   "source": [
    "# saving the model\n",
    "from joblib import dump, load"
   ]
  },
  {
   "cell_type": "code",
   "execution_count": null,
   "id": "a22b610b",
   "metadata": {},
   "outputs": [],
   "source": []
  },
  {
   "cell_type": "markdown",
   "id": "5c7cd642",
   "metadata": {},
   "source": [
    "###  Dataset with newly added sample"
   ]
  },
  {
   "cell_type": "code",
   "execution_count": 4,
   "id": "e9329db0",
   "metadata": {},
   "outputs": [
    {
     "data": {
      "text/html": [
       "<div>\n",
       "<style scoped>\n",
       "    .dataframe tbody tr th:only-of-type {\n",
       "        vertical-align: middle;\n",
       "    }\n",
       "\n",
       "    .dataframe tbody tr th {\n",
       "        vertical-align: top;\n",
       "    }\n",
       "\n",
       "    .dataframe thead th {\n",
       "        text-align: right;\n",
       "    }\n",
       "</style>\n",
       "<table border=\"1\" class=\"dataframe\">\n",
       "  <thead>\n",
       "    <tr style=\"text-align: right;\">\n",
       "      <th></th>\n",
       "      <th>age</th>\n",
       "      <th>resting_blood_pressure</th>\n",
       "      <th>cholesterol</th>\n",
       "      <th>fasting_blood_sugar</th>\n",
       "      <th>max_heart_rate_achieved</th>\n",
       "      <th>exercise_induced_angina</th>\n",
       "      <th>st_depression</th>\n",
       "      <th>target</th>\n",
       "      <th>sex_male</th>\n",
       "      <th>chest_pain_type_atypical angina</th>\n",
       "      <th>chest_pain_type_non-anginal pain</th>\n",
       "      <th>chest_pain_type_typical angina</th>\n",
       "      <th>rest_ecg_left ventricular hypertrophy</th>\n",
       "      <th>rest_ecg_normal</th>\n",
       "      <th>st_slope_flat</th>\n",
       "      <th>st_slope_normal</th>\n",
       "      <th>st_slope_upsloping</th>\n",
       "    </tr>\n",
       "  </thead>\n",
       "  <tbody>\n",
       "    <tr>\n",
       "      <th>0</th>\n",
       "      <td>53</td>\n",
       "      <td>125</td>\n",
       "      <td>0</td>\n",
       "      <td>1</td>\n",
       "      <td>120</td>\n",
       "      <td>0</td>\n",
       "      <td>1.5</td>\n",
       "      <td>1</td>\n",
       "      <td>1</td>\n",
       "      <td>0</td>\n",
       "      <td>0</td>\n",
       "      <td>0</td>\n",
       "      <td>0</td>\n",
       "      <td>1</td>\n",
       "      <td>0</td>\n",
       "      <td>0</td>\n",
       "      <td>1</td>\n",
       "    </tr>\n",
       "    <tr>\n",
       "      <th>1</th>\n",
       "      <td>62</td>\n",
       "      <td>120</td>\n",
       "      <td>0</td>\n",
       "      <td>1</td>\n",
       "      <td>123</td>\n",
       "      <td>1</td>\n",
       "      <td>1.7</td>\n",
       "      <td>1</td>\n",
       "      <td>0</td>\n",
       "      <td>0</td>\n",
       "      <td>0</td>\n",
       "      <td>0</td>\n",
       "      <td>0</td>\n",
       "      <td>0</td>\n",
       "      <td>0</td>\n",
       "      <td>0</td>\n",
       "      <td>0</td>\n",
       "    </tr>\n",
       "    <tr>\n",
       "      <th>2</th>\n",
       "      <td>51</td>\n",
       "      <td>95</td>\n",
       "      <td>0</td>\n",
       "      <td>1</td>\n",
       "      <td>126</td>\n",
       "      <td>0</td>\n",
       "      <td>2.2</td>\n",
       "      <td>1</td>\n",
       "      <td>1</td>\n",
       "      <td>0</td>\n",
       "      <td>0</td>\n",
       "      <td>0</td>\n",
       "      <td>0</td>\n",
       "      <td>1</td>\n",
       "      <td>1</td>\n",
       "      <td>0</td>\n",
       "      <td>0</td>\n",
       "    </tr>\n",
       "    <tr>\n",
       "      <th>3</th>\n",
       "      <td>51</td>\n",
       "      <td>120</td>\n",
       "      <td>0</td>\n",
       "      <td>1</td>\n",
       "      <td>127</td>\n",
       "      <td>1</td>\n",
       "      <td>1.5</td>\n",
       "      <td>1</td>\n",
       "      <td>0</td>\n",
       "      <td>0</td>\n",
       "      <td>0</td>\n",
       "      <td>0</td>\n",
       "      <td>0</td>\n",
       "      <td>1</td>\n",
       "      <td>0</td>\n",
       "      <td>0</td>\n",
       "      <td>1</td>\n",
       "    </tr>\n",
       "    <tr>\n",
       "      <th>4</th>\n",
       "      <td>55</td>\n",
       "      <td>115</td>\n",
       "      <td>0</td>\n",
       "      <td>1</td>\n",
       "      <td>155</td>\n",
       "      <td>0</td>\n",
       "      <td>0.1</td>\n",
       "      <td>1</td>\n",
       "      <td>1</td>\n",
       "      <td>0</td>\n",
       "      <td>0</td>\n",
       "      <td>0</td>\n",
       "      <td>0</td>\n",
       "      <td>1</td>\n",
       "      <td>1</td>\n",
       "      <td>0</td>\n",
       "      <td>0</td>\n",
       "    </tr>\n",
       "  </tbody>\n",
       "</table>\n",
       "</div>"
      ],
      "text/plain": [
       "   age  resting_blood_pressure  cholesterol  fasting_blood_sugar  \\\n",
       "0   53                     125            0                    1   \n",
       "1   62                     120            0                    1   \n",
       "2   51                      95            0                    1   \n",
       "3   51                     120            0                    1   \n",
       "4   55                     115            0                    1   \n",
       "\n",
       "   max_heart_rate_achieved  exercise_induced_angina  st_depression  target  \\\n",
       "0                      120                        0            1.5       1   \n",
       "1                      123                        1            1.7       1   \n",
       "2                      126                        0            2.2       1   \n",
       "3                      127                        1            1.5       1   \n",
       "4                      155                        0            0.1       1   \n",
       "\n",
       "   sex_male  chest_pain_type_atypical angina  \\\n",
       "0         1                                0   \n",
       "1         0                                0   \n",
       "2         1                                0   \n",
       "3         0                                0   \n",
       "4         1                                0   \n",
       "\n",
       "   chest_pain_type_non-anginal pain  chest_pain_type_typical angina  \\\n",
       "0                                 0                               0   \n",
       "1                                 0                               0   \n",
       "2                                 0                               0   \n",
       "3                                 0                               0   \n",
       "4                                 0                               0   \n",
       "\n",
       "   rest_ecg_left ventricular hypertrophy  rest_ecg_normal  st_slope_flat  \\\n",
       "0                                      0                1              0   \n",
       "1                                      0                0              0   \n",
       "2                                      0                1              1   \n",
       "3                                      0                1              0   \n",
       "4                                      0                1              1   \n",
       "\n",
       "   st_slope_normal  st_slope_upsloping  \n",
       "0                0                   1  \n",
       "1                0                   0  \n",
       "2                0                   0  \n",
       "3                0                   1  \n",
       "4                0                   0  "
      ]
     },
     "execution_count": 4,
     "metadata": {},
     "output_type": "execute_result"
    }
   ],
   "source": [
    "df = pd.read_csv(\"Hungary_Full.csv\")\n",
    "df.head()"
   ]
  },
  {
   "cell_type": "code",
   "execution_count": 5,
   "id": "79d5e88c",
   "metadata": {},
   "outputs": [
    {
     "data": {
      "text/plain": [
       "(291, 17)"
      ]
     },
     "execution_count": 5,
     "metadata": {},
     "output_type": "execute_result"
    }
   ],
   "source": [
    "df.shape"
   ]
  },
  {
   "cell_type": "code",
   "execution_count": 6,
   "id": "1edf49cf",
   "metadata": {},
   "outputs": [],
   "source": [
    "X = df.drop(\"target\", axis=1)"
   ]
  },
  {
   "cell_type": "code",
   "execution_count": 7,
   "id": "430903c0",
   "metadata": {},
   "outputs": [],
   "source": [
    "y = df[\"target\"]"
   ]
  },
  {
   "cell_type": "code",
   "execution_count": 8,
   "id": "0b74a1fa",
   "metadata": {},
   "outputs": [
    {
     "name": "stdout",
     "output_type": "stream",
     "text": [
      "-----------remodeled-Training Set------------------\n",
      "(232, 16)\n",
      "(232,)\n"
     ]
    }
   ],
   "source": [
    "X_train2, X_test2, y_train2, y_test2 = train_test_split(X, y, \n",
    "                                                        test_size=0.20, stratify=y,\n",
    "                                                        random_state=5)\n",
    "print('-----------remodeled-Training Set------------------')\n",
    "print(X_train2.shape)\n",
    "print(y_train2.shape)"
   ]
  },
  {
   "cell_type": "markdown",
   "id": "94eb72aa",
   "metadata": {},
   "source": [
    "### Using the federated models parameters to evaluate dataset with new samples"
   ]
  },
  {
   "cell_type": "markdown",
   "id": "d1f007e2",
   "metadata": {},
   "source": [
    "# 1"
   ]
  },
  {
   "cell_type": "code",
   "execution_count": 9,
   "id": "3f19a3c7",
   "metadata": {},
   "outputs": [
    {
     "name": "stdout",
     "output_type": "stream",
     "text": [
      "RandomForestClassifier(criterion='entropy', max_depth=6, max_features='log2',\n",
      "                       n_estimators=50, random_state=1)\n",
      "Test Accuracy_4: 89.83050847457628\n",
      "Precision_4: 88.88888888888889\n",
      "Recall_4: 100.0\n",
      "f1_score_4: 94.11764705882352\n"
     ]
    }
   ],
   "source": [
    "# loading the model from saved file\n",
    "fed_model_3 = load(\"fed_model_3.joblib\")\n",
    "print(fed_model_3)\n",
    "\n",
    "model4 = fed_model_3\n",
    "model4.fit(X_train2,y_train2)\n",
    "pred4 = model4.predict(X_test2)\n",
    "\n",
    "acc4 = accuracy_score(y_test2,pred4)\n",
    "print('Test Accuracy_4:', acc4*100)\n",
    "\n",
    "precision_4 = precision_score(y_test2, pred4)\n",
    "print('Precision_4:', precision_4*100)\n",
    "\n",
    "recall_4 = recall_score(y_test2, pred4)\n",
    "print('Recall_4:', recall_4*100)\n",
    "\n",
    "f1_score_4 = f1_score(y_test2, pred4)\n",
    "print('f1_score_4:', f1_score_4*100)"
   ]
  },
  {
   "cell_type": "markdown",
   "id": "33c0221f",
   "metadata": {},
   "source": [
    "# 2"
   ]
  },
  {
   "cell_type": "code",
   "execution_count": 11,
   "id": "eb3b1332",
   "metadata": {},
   "outputs": [
    {
     "name": "stdout",
     "output_type": "stream",
     "text": [
      "Best hyerparameters {'criterion': 'gini', 'max_depth': 5, 'max_features': 'log2', 'n_estimators': 60}\n",
      "Test Accuracy_5: 89.83050847457628\n",
      "Precision_5: 88.88888888888889\n",
      "Recall_5: 100.0\n",
      "f1_score_5: 94.11764705882352\n"
     ]
    }
   ],
   "source": [
    "# Define the grid of hyperparameters 'params_rf'\n",
    "params_rf_5 = {'n_estimators': list(range(60,120,5)), 'max_depth': list(range(5,10)),\n",
    "             'max_features': ['log2','sqrt'], 'criterion': ['gini', 'entropy']}\n",
    "\n",
    "model1=RandomForestClassifier(random_state=1)\n",
    "\n",
    "# Instantiate a 5-fold CV grid search object 'grid_rf'\n",
    "grid_rf_5 = GridSearchCV(estimator=model1, param_grid=params_rf_5, scoring='accuracy', cv=5, n_jobs=-1)\n",
    "\n",
    "grid_rf_5.fit(X_train2, y_train2)\n",
    "\n",
    "# Extract best model from 'grid_rf'\n",
    "best_model5 = grid_rf_5.best_estimator_\n",
    "\n",
    "# Extract best hyperparameters from 'grid_rf'\n",
    "best_hyperparams_5 = grid_rf_5.best_params_\n",
    "print('Best hyerparameters', best_hyperparams_5)\n",
    "\n",
    "# Evaluate test set accuracy\n",
    "pred5 = best_model5.predict(X_test2)\n",
    "\n",
    "test_acc5 = accuracy_score(y_test2, pred5)\n",
    "print('Test Accuracy_5:', test_acc5*100)\n",
    "\n",
    "precision_5 = precision_score(y_test2, pred5)\n",
    "print('Precision_5:', precision_5*100)\n",
    "\n",
    "recall_5 = recall_score(y_test2, pred5)\n",
    "print('Recall_5:', recall_5*100)\n",
    "\n",
    "f1_score_5 = f1_score(y_test2, pred5)\n",
    "print('f1_score_5:', f1_score_5*100)"
   ]
  },
  {
   "cell_type": "code",
   "execution_count": 12,
   "id": "15fcfddc",
   "metadata": {},
   "outputs": [
    {
     "data": {
      "text/plain": [
       "['client_hungarian_3.joblib']"
      ]
     },
     "execution_count": 12,
     "metadata": {},
     "output_type": "execute_result"
    }
   ],
   "source": [
    "dump(best_model5, \"client_hungarian_3.joblib\")"
   ]
  },
  {
   "cell_type": "markdown",
   "id": "9ebc7ad3",
   "metadata": {},
   "source": [
    "# 3"
   ]
  },
  {
   "cell_type": "code",
   "execution_count": 30,
   "id": "0b3fdcf5",
   "metadata": {},
   "outputs": [
    {
     "name": "stdout",
     "output_type": "stream",
     "text": [
      "RandomForestClassifier(criterion='entropy', max_depth=9, max_features='log2',\n",
      "                       n_estimators=65, random_state=1)\n",
      "Test Accuracy_6: 90.41095890410958\n",
      "Precision_6: 89.55223880597015\n",
      "Recall_6: 100.0\n",
      "f1_score_6: 94.48818897637796\n"
     ]
    }
   ],
   "source": [
    "fed_model_4 = load(\"fed_model_4.joblib\")\n",
    "print(fed_model_4)\n",
    "\n",
    "model6 = fed_model_4\n",
    "model6.fit(X_train2,y_train2)\n",
    "\n",
    "pred6 = model6.predict(X_test2)\n",
    "\n",
    "test_acc6 = accuracy_score(y_test2, pred6)\n",
    "print('Test Accuracy_6:', test_acc6*100)\n",
    "\n",
    "precision_6 = precision_score(y_test2, pred6)\n",
    "print('Precision_6:', precision_6*100)\n",
    "\n",
    "recall_6 = recall_score(y_test2, pred6)\n",
    "print('Recall_6:', recall_6*100)\n",
    "\n",
    "f1_score_6 = f1_score(y_test2, pred6)\n",
    "print('f1_score_6:', f1_score_6*100)"
   ]
  },
  {
   "cell_type": "code",
   "execution_count": null,
   "id": "76f1e579",
   "metadata": {},
   "outputs": [],
   "source": []
  }
 ],
 "metadata": {
  "kernelspec": {
   "display_name": "Python 3 (ipykernel)",
   "language": "python",
   "name": "python3"
  },
  "language_info": {
   "codemirror_mode": {
    "name": "ipython",
    "version": 3
   },
   "file_extension": ".py",
   "mimetype": "text/x-python",
   "name": "python",
   "nbconvert_exporter": "python",
   "pygments_lexer": "ipython3",
   "version": "3.9.7"
  }
 },
 "nbformat": 4,
 "nbformat_minor": 5
}
