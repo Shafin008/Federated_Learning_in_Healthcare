{
 "cells": [
  {
   "cell_type": "code",
   "execution_count": 1,
   "id": "92768582",
   "metadata": {},
   "outputs": [],
   "source": [
    "import numpy as np\n",
    "import pandas as pd"
   ]
  },
  {
   "cell_type": "code",
   "execution_count": 2,
   "id": "22d3822c",
   "metadata": {},
   "outputs": [
    {
     "data": {
      "text/html": [
       "<div>\n",
       "<style scoped>\n",
       "    .dataframe tbody tr th:only-of-type {\n",
       "        vertical-align: middle;\n",
       "    }\n",
       "\n",
       "    .dataframe tbody tr th {\n",
       "        vertical-align: top;\n",
       "    }\n",
       "\n",
       "    .dataframe thead th {\n",
       "        text-align: right;\n",
       "    }\n",
       "</style>\n",
       "<table border=\"1\" class=\"dataframe\">\n",
       "  <thead>\n",
       "    <tr style=\"text-align: right;\">\n",
       "      <th></th>\n",
       "      <th>age</th>\n",
       "      <th>resting_blood_pressure</th>\n",
       "      <th>cholesterol</th>\n",
       "      <th>fasting_blood_sugar</th>\n",
       "      <th>max_heart_rate_achieved</th>\n",
       "      <th>exercise_induced_angina</th>\n",
       "      <th>st_depression</th>\n",
       "      <th>sex_male</th>\n",
       "      <th>chest_pain_type_atypical angina</th>\n",
       "      <th>chest_pain_type_non-anginal pain</th>\n",
       "      <th>chest_pain_type_typical angina</th>\n",
       "      <th>rest_ecg_left ventricular hypertrophy</th>\n",
       "      <th>rest_ecg_normal</th>\n",
       "      <th>st_slope_flat</th>\n",
       "      <th>st_slope_upsloping</th>\n",
       "      <th>target</th>\n",
       "    </tr>\n",
       "  </thead>\n",
       "  <tbody>\n",
       "    <tr>\n",
       "      <th>0</th>\n",
       "      <td>44</td>\n",
       "      <td>120</td>\n",
       "      <td>218</td>\n",
       "      <td>0</td>\n",
       "      <td>115</td>\n",
       "      <td>0</td>\n",
       "      <td>0.0</td>\n",
       "      <td>0</td>\n",
       "      <td>0</td>\n",
       "      <td>0</td>\n",
       "      <td>0</td>\n",
       "      <td>0</td>\n",
       "      <td>0</td>\n",
       "      <td>0</td>\n",
       "      <td>1</td>\n",
       "      <td>0</td>\n",
       "    </tr>\n",
       "    <tr>\n",
       "      <th>1</th>\n",
       "      <td>38</td>\n",
       "      <td>145</td>\n",
       "      <td>292</td>\n",
       "      <td>0</td>\n",
       "      <td>130</td>\n",
       "      <td>0</td>\n",
       "      <td>0.0</td>\n",
       "      <td>1</td>\n",
       "      <td>0</td>\n",
       "      <td>1</td>\n",
       "      <td>0</td>\n",
       "      <td>0</td>\n",
       "      <td>1</td>\n",
       "      <td>0</td>\n",
       "      <td>1</td>\n",
       "      <td>0</td>\n",
       "    </tr>\n",
       "    <tr>\n",
       "      <th>2</th>\n",
       "      <td>50</td>\n",
       "      <td>140</td>\n",
       "      <td>129</td>\n",
       "      <td>0</td>\n",
       "      <td>135</td>\n",
       "      <td>0</td>\n",
       "      <td>0.0</td>\n",
       "      <td>1</td>\n",
       "      <td>0</td>\n",
       "      <td>0</td>\n",
       "      <td>0</td>\n",
       "      <td>0</td>\n",
       "      <td>1</td>\n",
       "      <td>0</td>\n",
       "      <td>1</td>\n",
       "      <td>0</td>\n",
       "    </tr>\n",
       "    <tr>\n",
       "      <th>3</th>\n",
       "      <td>46</td>\n",
       "      <td>120</td>\n",
       "      <td>230</td>\n",
       "      <td>0</td>\n",
       "      <td>150</td>\n",
       "      <td>0</td>\n",
       "      <td>0.0</td>\n",
       "      <td>1</td>\n",
       "      <td>0</td>\n",
       "      <td>1</td>\n",
       "      <td>0</td>\n",
       "      <td>0</td>\n",
       "      <td>1</td>\n",
       "      <td>0</td>\n",
       "      <td>1</td>\n",
       "      <td>0</td>\n",
       "    </tr>\n",
       "    <tr>\n",
       "      <th>4</th>\n",
       "      <td>51</td>\n",
       "      <td>110</td>\n",
       "      <td>190</td>\n",
       "      <td>0</td>\n",
       "      <td>120</td>\n",
       "      <td>0</td>\n",
       "      <td>0.0</td>\n",
       "      <td>0</td>\n",
       "      <td>0</td>\n",
       "      <td>1</td>\n",
       "      <td>0</td>\n",
       "      <td>0</td>\n",
       "      <td>1</td>\n",
       "      <td>0</td>\n",
       "      <td>1</td>\n",
       "      <td>0</td>\n",
       "    </tr>\n",
       "  </tbody>\n",
       "</table>\n",
       "</div>"
      ],
      "text/plain": [
       "   age  resting_blood_pressure  cholesterol  fasting_blood_sugar  \\\n",
       "0   44                     120          218                    0   \n",
       "1   38                     145          292                    0   \n",
       "2   50                     140          129                    0   \n",
       "3   46                     120          230                    0   \n",
       "4   51                     110          190                    0   \n",
       "\n",
       "   max_heart_rate_achieved  exercise_induced_angina  st_depression  sex_male  \\\n",
       "0                      115                        0            0.0         0   \n",
       "1                      130                        0            0.0         1   \n",
       "2                      135                        0            0.0         1   \n",
       "3                      150                        0            0.0         1   \n",
       "4                      120                        0            0.0         0   \n",
       "\n",
       "   chest_pain_type_atypical angina  chest_pain_type_non-anginal pain  \\\n",
       "0                                0                                 0   \n",
       "1                                0                                 1   \n",
       "2                                0                                 0   \n",
       "3                                0                                 1   \n",
       "4                                0                                 1   \n",
       "\n",
       "   chest_pain_type_typical angina  rest_ecg_left ventricular hypertrophy  \\\n",
       "0                               0                                      0   \n",
       "1                               0                                      0   \n",
       "2                               0                                      0   \n",
       "3                               0                                      0   \n",
       "4                               0                                      0   \n",
       "\n",
       "   rest_ecg_normal  st_slope_flat  st_slope_upsloping  target  \n",
       "0                0              0                   1       0  \n",
       "1                1              0                   1       0  \n",
       "2                1              0                   1       0  \n",
       "3                1              0                   1       0  \n",
       "4                1              0                   1       0  "
      ]
     },
     "execution_count": 2,
     "metadata": {},
     "output_type": "execute_result"
    }
   ],
   "source": [
    "dt = pd.read_csv(\"Cleveland_80%.csv\")\n",
    "dt.head()"
   ]
  },
  {
   "cell_type": "code",
   "execution_count": 3,
   "id": "8023a059",
   "metadata": {},
   "outputs": [
    {
     "data": {
      "text/plain": [
       "(230, 16)"
      ]
     },
     "execution_count": 3,
     "metadata": {},
     "output_type": "execute_result"
    }
   ],
   "source": [
    "# checking the shape of dataset\n",
    "dt.shape"
   ]
  },
  {
   "cell_type": "code",
   "execution_count": 4,
   "id": "0b473bf0",
   "metadata": {},
   "outputs": [],
   "source": [
    "from sklearn.metrics import accuracy_score, precision_score, recall_score, f1_score\n",
    "from sklearn.ensemble import RandomForestClassifier\n",
    "from sklearn.model_selection import GridSearchCV,train_test_split"
   ]
  },
  {
   "cell_type": "code",
   "execution_count": 5,
   "id": "cc0bf805",
   "metadata": {},
   "outputs": [],
   "source": [
    "features = dt.drop(\"target\", axis=1)"
   ]
  },
  {
   "cell_type": "code",
   "execution_count": 6,
   "id": "616b993e",
   "metadata": {},
   "outputs": [
    {
     "data": {
      "text/html": [
       "<div>\n",
       "<style scoped>\n",
       "    .dataframe tbody tr th:only-of-type {\n",
       "        vertical-align: middle;\n",
       "    }\n",
       "\n",
       "    .dataframe tbody tr th {\n",
       "        vertical-align: top;\n",
       "    }\n",
       "\n",
       "    .dataframe thead th {\n",
       "        text-align: right;\n",
       "    }\n",
       "</style>\n",
       "<table border=\"1\" class=\"dataframe\">\n",
       "  <thead>\n",
       "    <tr style=\"text-align: right;\">\n",
       "      <th></th>\n",
       "      <th>age</th>\n",
       "      <th>resting_blood_pressure</th>\n",
       "      <th>cholesterol</th>\n",
       "      <th>fasting_blood_sugar</th>\n",
       "      <th>max_heart_rate_achieved</th>\n",
       "      <th>exercise_induced_angina</th>\n",
       "      <th>st_depression</th>\n",
       "      <th>sex_male</th>\n",
       "      <th>chest_pain_type_atypical angina</th>\n",
       "      <th>chest_pain_type_non-anginal pain</th>\n",
       "      <th>chest_pain_type_typical angina</th>\n",
       "      <th>rest_ecg_left ventricular hypertrophy</th>\n",
       "      <th>rest_ecg_normal</th>\n",
       "      <th>st_slope_flat</th>\n",
       "      <th>st_slope_upsloping</th>\n",
       "      <th>target</th>\n",
       "    </tr>\n",
       "  </thead>\n",
       "  <tbody>\n",
       "    <tr>\n",
       "      <th>0</th>\n",
       "      <td>44</td>\n",
       "      <td>120</td>\n",
       "      <td>218</td>\n",
       "      <td>0</td>\n",
       "      <td>115</td>\n",
       "      <td>0</td>\n",
       "      <td>0.0</td>\n",
       "      <td>0</td>\n",
       "      <td>0</td>\n",
       "      <td>0</td>\n",
       "      <td>0</td>\n",
       "      <td>0</td>\n",
       "      <td>0</td>\n",
       "      <td>0</td>\n",
       "      <td>1</td>\n",
       "      <td>0</td>\n",
       "    </tr>\n",
       "    <tr>\n",
       "      <th>1</th>\n",
       "      <td>38</td>\n",
       "      <td>145</td>\n",
       "      <td>292</td>\n",
       "      <td>0</td>\n",
       "      <td>130</td>\n",
       "      <td>0</td>\n",
       "      <td>0.0</td>\n",
       "      <td>1</td>\n",
       "      <td>0</td>\n",
       "      <td>1</td>\n",
       "      <td>0</td>\n",
       "      <td>0</td>\n",
       "      <td>1</td>\n",
       "      <td>0</td>\n",
       "      <td>1</td>\n",
       "      <td>0</td>\n",
       "    </tr>\n",
       "    <tr>\n",
       "      <th>2</th>\n",
       "      <td>50</td>\n",
       "      <td>140</td>\n",
       "      <td>129</td>\n",
       "      <td>0</td>\n",
       "      <td>135</td>\n",
       "      <td>0</td>\n",
       "      <td>0.0</td>\n",
       "      <td>1</td>\n",
       "      <td>0</td>\n",
       "      <td>0</td>\n",
       "      <td>0</td>\n",
       "      <td>0</td>\n",
       "      <td>1</td>\n",
       "      <td>0</td>\n",
       "      <td>1</td>\n",
       "      <td>0</td>\n",
       "    </tr>\n",
       "    <tr>\n",
       "      <th>3</th>\n",
       "      <td>46</td>\n",
       "      <td>120</td>\n",
       "      <td>230</td>\n",
       "      <td>0</td>\n",
       "      <td>150</td>\n",
       "      <td>0</td>\n",
       "      <td>0.0</td>\n",
       "      <td>1</td>\n",
       "      <td>0</td>\n",
       "      <td>1</td>\n",
       "      <td>0</td>\n",
       "      <td>0</td>\n",
       "      <td>1</td>\n",
       "      <td>0</td>\n",
       "      <td>1</td>\n",
       "      <td>0</td>\n",
       "    </tr>\n",
       "    <tr>\n",
       "      <th>4</th>\n",
       "      <td>51</td>\n",
       "      <td>110</td>\n",
       "      <td>190</td>\n",
       "      <td>0</td>\n",
       "      <td>120</td>\n",
       "      <td>0</td>\n",
       "      <td>0.0</td>\n",
       "      <td>0</td>\n",
       "      <td>0</td>\n",
       "      <td>1</td>\n",
       "      <td>0</td>\n",
       "      <td>0</td>\n",
       "      <td>1</td>\n",
       "      <td>0</td>\n",
       "      <td>1</td>\n",
       "      <td>0</td>\n",
       "    </tr>\n",
       "  </tbody>\n",
       "</table>\n",
       "</div>"
      ],
      "text/plain": [
       "   age  resting_blood_pressure  cholesterol  fasting_blood_sugar  \\\n",
       "0   44                     120          218                    0   \n",
       "1   38                     145          292                    0   \n",
       "2   50                     140          129                    0   \n",
       "3   46                     120          230                    0   \n",
       "4   51                     110          190                    0   \n",
       "\n",
       "   max_heart_rate_achieved  exercise_induced_angina  st_depression  sex_male  \\\n",
       "0                      115                        0            0.0         0   \n",
       "1                      130                        0            0.0         1   \n",
       "2                      135                        0            0.0         1   \n",
       "3                      150                        0            0.0         1   \n",
       "4                      120                        0            0.0         0   \n",
       "\n",
       "   chest_pain_type_atypical angina  chest_pain_type_non-anginal pain  \\\n",
       "0                                0                                 0   \n",
       "1                                0                                 1   \n",
       "2                                0                                 0   \n",
       "3                                0                                 1   \n",
       "4                                0                                 1   \n",
       "\n",
       "   chest_pain_type_typical angina  rest_ecg_left ventricular hypertrophy  \\\n",
       "0                               0                                      0   \n",
       "1                               0                                      0   \n",
       "2                               0                                      0   \n",
       "3                               0                                      0   \n",
       "4                               0                                      0   \n",
       "\n",
       "   rest_ecg_normal  st_slope_flat  st_slope_upsloping  target  \n",
       "0                0              0                   1       0  \n",
       "1                1              0                   1       0  \n",
       "2                1              0                   1       0  \n",
       "3                1              0                   1       0  \n",
       "4                1              0                   1       0  "
      ]
     },
     "execution_count": 6,
     "metadata": {},
     "output_type": "execute_result"
    }
   ],
   "source": [
    "target = dt[\"target\"]\n",
    "dt.head()"
   ]
  },
  {
   "cell_type": "code",
   "execution_count": 7,
   "id": "99edbbef",
   "metadata": {},
   "outputs": [
    {
     "name": "stdout",
     "output_type": "stream",
     "text": [
      "-----------remodeled-Training Set------------------\n",
      "(172, 15)\n",
      "(172,)\n"
     ]
    }
   ],
   "source": [
    "X_train, X_test, y_train, y_test = train_test_split(features, target, \n",
    "                                                        test_size=0.25, stratify=target,\n",
    "                                                        random_state=5)\n",
    "print('-----------remodeled-Training Set------------------')\n",
    "print(X_train.shape)\n",
    "print(y_train.shape)"
   ]
  },
  {
   "cell_type": "code",
   "execution_count": 8,
   "id": "98b452f5",
   "metadata": {},
   "outputs": [],
   "source": [
    "# saving the model\n",
    "from joblib import dump, load"
   ]
  },
  {
   "cell_type": "markdown",
   "id": "49ffa6dc",
   "metadata": {},
   "source": [
    "### Loading the initial federated model"
   ]
  },
  {
   "cell_type": "code",
   "execution_count": 9,
   "id": "fe45cd67",
   "metadata": {},
   "outputs": [
    {
     "data": {
      "text/plain": [
       "RandomForestClassifier(criterion='entropy', max_depth=4, max_features='log2',\n",
       "                       n_estimators=11, random_state=1)"
      ]
     },
     "execution_count": 9,
     "metadata": {},
     "output_type": "execute_result"
    }
   ],
   "source": [
    "# loading the model from saved file\n",
    "initial_fed_model = load(\"initial_fed_model.joblib\")\n",
    "initial_fed_model"
   ]
  },
  {
   "cell_type": "code",
   "execution_count": 10,
   "id": "fe8d6e15",
   "metadata": {},
   "outputs": [
    {
     "name": "stdout",
     "output_type": "stream",
     "text": [
      "Test Accuracy_1: 86.20689655172413\n",
      "Precision_1: 73.07692307692307\n",
      "Recall_1: 95.0\n",
      "f1_score_1: 82.60869565217392\n"
     ]
    }
   ],
   "source": [
    "model1 = initial_fed_model\n",
    "model1.fit(X_train,y_train)\n",
    "pred1 = model1.predict(X_test)\n",
    "\n",
    "acc1 = accuracy_score(y_test,pred1)\n",
    "print('Test Accuracy_1:', acc1*100)\n",
    "\n",
    "precision_1 = precision_score(y_test, pred1)\n",
    "print('Precision_1:', precision_1*100)\n",
    "\n",
    "recall_1 = recall_score(y_test, pred1)\n",
    "print('Recall_1:', recall_1*100)\n",
    "\n",
    "f1_score_1 = f1_score(y_test, pred1)\n",
    "print('f1_score_1:', f1_score_1*100)"
   ]
  },
  {
   "cell_type": "markdown",
   "id": "9bdeff59",
   "metadata": {},
   "source": [
    "### Further tuning on existing dataset"
   ]
  },
  {
   "cell_type": "code",
   "execution_count": 11,
   "id": "00f11edb",
   "metadata": {},
   "outputs": [
    {
     "name": "stdout",
     "output_type": "stream",
     "text": [
      "Best hyerparameters {'criterion': 'gini', 'max_depth': 7, 'max_features': 'log2', 'n_estimators': 85}\n",
      "Test Accuracy_2: 87.93103448275862\n",
      "Precision_2: 74.07407407407408\n",
      "Recall_2: 100.0\n",
      "f1_score_2: 85.1063829787234\n"
     ]
    }
   ],
   "source": [
    "# Define the grid of hyperparameters 'params_rf'\n",
    "params_rf_1 = {'n_estimators': list(range(20,100,5)), 'max_depth': list(range(2,9)),\n",
    "             'max_features': ['log2','sqrt'], 'criterion': ['gini', 'entropy']}\n",
    "\n",
    "model1=RandomForestClassifier(random_state=1)\n",
    "\n",
    "# Instantiate a 5-fold CV grid search object 'grid_rf'\n",
    "grid_rf_1 = GridSearchCV(estimator=model1, param_grid=params_rf_1, scoring='accuracy', cv=5, n_jobs=-1)\n",
    "\n",
    "grid_rf_1.fit(X_train, y_train)\n",
    "\n",
    "# Extract best model from 'grid_rf'\n",
    "best_model1 = grid_rf_1.best_estimator_\n",
    "\n",
    "# Extract best hyperparameters from 'grid_rf'\n",
    "best_hyperparams_1 = grid_rf_1.best_params_\n",
    "print('Best hyerparameters', best_hyperparams_1)\n",
    "\n",
    "# Evaluate test set accuracy\n",
    "pred2 = best_model1.predict(X_test)\n",
    "\n",
    "test_acc2 = accuracy_score(y_test, pred2)\n",
    "print('Test Accuracy_2:', test_acc2*100)\n",
    "\n",
    "precision_2 = precision_score(y_test, pred2)\n",
    "print('Precision_2:', precision_2*100)\n",
    "\n",
    "recall_2 = recall_score(y_test, pred2)\n",
    "print('Recall_2:', recall_2*100)\n",
    "\n",
    "f1_score_2 = f1_score(y_test, pred2)\n",
    "print('f1_score_2:', f1_score_2*100)"
   ]
  },
  {
   "cell_type": "markdown",
   "id": "e847a483",
   "metadata": {},
   "source": [
    "### Saving the tuned model for federated server"
   ]
  },
  {
   "cell_type": "code",
   "execution_count": 12,
   "id": "184313a1",
   "metadata": {},
   "outputs": [
    {
     "data": {
      "text/plain": [
       "['client_cleveland_1.joblib']"
      ]
     },
     "execution_count": 12,
     "metadata": {},
     "output_type": "execute_result"
    }
   ],
   "source": [
    "dump(best_model1, \"client_cleveland_1.joblib\")"
   ]
  },
  {
   "cell_type": "markdown",
   "id": "b0dbefdd",
   "metadata": {},
   "source": [
    "### Loading the tuned federated model"
   ]
  },
  {
   "cell_type": "code",
   "execution_count": 13,
   "id": "babb98f8",
   "metadata": {},
   "outputs": [
    {
     "data": {
      "text/plain": [
       "RandomForestClassifier(criterion='entropy', max_depth=7, max_features='log2',\n",
       "                       n_estimators=30, random_state=1)"
      ]
     },
     "execution_count": 13,
     "metadata": {},
     "output_type": "execute_result"
    }
   ],
   "source": [
    "# loading the model from saved file\n",
    "fed_model_2 = load(\"fed_model_2.joblib\")\n",
    "fed_model_2"
   ]
  },
  {
   "cell_type": "code",
   "execution_count": 14,
   "id": "0829b72e",
   "metadata": {},
   "outputs": [
    {
     "name": "stdout",
     "output_type": "stream",
     "text": [
      "Test Accuracy_3: 87.93103448275862\n",
      "Precision_3: 76.0\n",
      "Recall_3: 95.0\n",
      "f1_score_3: 84.44444444444444\n"
     ]
    }
   ],
   "source": [
    "model3 = fed_model_2\n",
    "model3.fit(X_train,y_train)\n",
    "pred3 = model3.predict(X_test)\n",
    "\n",
    "acc3 = accuracy_score(y_test,pred3)\n",
    "print('Test Accuracy_3:', acc3*100)\n",
    "\n",
    "precision_3 = precision_score(y_test, pred3)\n",
    "print('Precision_3:', precision_3*100)\n",
    "\n",
    "recall_3 = recall_score(y_test, pred3)\n",
    "print('Recall_3:', recall_1*100)\n",
    "\n",
    "f1_score_3 = f1_score(y_test, pred3)\n",
    "print('f1_score_3:', f1_score_3*100)"
   ]
  },
  {
   "cell_type": "code",
   "execution_count": null,
   "id": "af8020be",
   "metadata": {},
   "outputs": [],
   "source": []
  },
  {
   "cell_type": "markdown",
   "id": "c35dfc7e",
   "metadata": {},
   "source": [
    "###  Dataset with newly added sample(Phase 2)"
   ]
  },
  {
   "cell_type": "code",
   "execution_count": 15,
   "id": "c151873a",
   "metadata": {},
   "outputs": [
    {
     "data": {
      "text/html": [
       "<div>\n",
       "<style scoped>\n",
       "    .dataframe tbody tr th:only-of-type {\n",
       "        vertical-align: middle;\n",
       "    }\n",
       "\n",
       "    .dataframe tbody tr th {\n",
       "        vertical-align: top;\n",
       "    }\n",
       "\n",
       "    .dataframe thead th {\n",
       "        text-align: right;\n",
       "    }\n",
       "</style>\n",
       "<table border=\"1\" class=\"dataframe\">\n",
       "  <thead>\n",
       "    <tr style=\"text-align: right;\">\n",
       "      <th></th>\n",
       "      <th>age</th>\n",
       "      <th>resting_blood_pressure</th>\n",
       "      <th>cholesterol</th>\n",
       "      <th>fasting_blood_sugar</th>\n",
       "      <th>max_heart_rate_achieved</th>\n",
       "      <th>exercise_induced_angina</th>\n",
       "      <th>st_depression</th>\n",
       "      <th>target</th>\n",
       "      <th>sex_male</th>\n",
       "      <th>chest_pain_type_atypical angina</th>\n",
       "      <th>chest_pain_type_non-anginal pain</th>\n",
       "      <th>chest_pain_type_typical angina</th>\n",
       "      <th>rest_ecg_left ventricular hypertrophy</th>\n",
       "      <th>rest_ecg_normal</th>\n",
       "      <th>st_slope_flat</th>\n",
       "      <th>st_slope_upsloping</th>\n",
       "    </tr>\n",
       "  </thead>\n",
       "  <tbody>\n",
       "    <tr>\n",
       "      <th>0</th>\n",
       "      <td>40</td>\n",
       "      <td>140</td>\n",
       "      <td>289</td>\n",
       "      <td>0</td>\n",
       "      <td>172</td>\n",
       "      <td>0</td>\n",
       "      <td>0.0</td>\n",
       "      <td>0</td>\n",
       "      <td>1</td>\n",
       "      <td>1</td>\n",
       "      <td>0</td>\n",
       "      <td>0</td>\n",
       "      <td>0</td>\n",
       "      <td>1</td>\n",
       "      <td>0</td>\n",
       "      <td>1</td>\n",
       "    </tr>\n",
       "    <tr>\n",
       "      <th>1</th>\n",
       "      <td>49</td>\n",
       "      <td>160</td>\n",
       "      <td>180</td>\n",
       "      <td>0</td>\n",
       "      <td>156</td>\n",
       "      <td>0</td>\n",
       "      <td>1.0</td>\n",
       "      <td>1</td>\n",
       "      <td>0</td>\n",
       "      <td>0</td>\n",
       "      <td>1</td>\n",
       "      <td>0</td>\n",
       "      <td>0</td>\n",
       "      <td>1</td>\n",
       "      <td>1</td>\n",
       "      <td>0</td>\n",
       "    </tr>\n",
       "    <tr>\n",
       "      <th>2</th>\n",
       "      <td>37</td>\n",
       "      <td>130</td>\n",
       "      <td>283</td>\n",
       "      <td>0</td>\n",
       "      <td>98</td>\n",
       "      <td>0</td>\n",
       "      <td>0.0</td>\n",
       "      <td>0</td>\n",
       "      <td>1</td>\n",
       "      <td>1</td>\n",
       "      <td>0</td>\n",
       "      <td>0</td>\n",
       "      <td>0</td>\n",
       "      <td>0</td>\n",
       "      <td>0</td>\n",
       "      <td>1</td>\n",
       "    </tr>\n",
       "    <tr>\n",
       "      <th>3</th>\n",
       "      <td>48</td>\n",
       "      <td>138</td>\n",
       "      <td>214</td>\n",
       "      <td>0</td>\n",
       "      <td>108</td>\n",
       "      <td>1</td>\n",
       "      <td>1.5</td>\n",
       "      <td>1</td>\n",
       "      <td>0</td>\n",
       "      <td>0</td>\n",
       "      <td>0</td>\n",
       "      <td>0</td>\n",
       "      <td>0</td>\n",
       "      <td>1</td>\n",
       "      <td>1</td>\n",
       "      <td>0</td>\n",
       "    </tr>\n",
       "    <tr>\n",
       "      <th>4</th>\n",
       "      <td>54</td>\n",
       "      <td>150</td>\n",
       "      <td>195</td>\n",
       "      <td>0</td>\n",
       "      <td>122</td>\n",
       "      <td>0</td>\n",
       "      <td>0.0</td>\n",
       "      <td>0</td>\n",
       "      <td>1</td>\n",
       "      <td>0</td>\n",
       "      <td>1</td>\n",
       "      <td>0</td>\n",
       "      <td>0</td>\n",
       "      <td>1</td>\n",
       "      <td>0</td>\n",
       "      <td>1</td>\n",
       "    </tr>\n",
       "  </tbody>\n",
       "</table>\n",
       "</div>"
      ],
      "text/plain": [
       "   age  resting_blood_pressure  cholesterol  fasting_blood_sugar  \\\n",
       "0   40                     140          289                    0   \n",
       "1   49                     160          180                    0   \n",
       "2   37                     130          283                    0   \n",
       "3   48                     138          214                    0   \n",
       "4   54                     150          195                    0   \n",
       "\n",
       "   max_heart_rate_achieved  exercise_induced_angina  st_depression  target  \\\n",
       "0                      172                        0            0.0       0   \n",
       "1                      156                        0            1.0       1   \n",
       "2                       98                        0            0.0       0   \n",
       "3                      108                        1            1.5       1   \n",
       "4                      122                        0            0.0       0   \n",
       "\n",
       "   sex_male  chest_pain_type_atypical angina  \\\n",
       "0         1                                1   \n",
       "1         0                                0   \n",
       "2         1                                1   \n",
       "3         0                                0   \n",
       "4         1                                0   \n",
       "\n",
       "   chest_pain_type_non-anginal pain  chest_pain_type_typical angina  \\\n",
       "0                                 0                               0   \n",
       "1                                 1                               0   \n",
       "2                                 0                               0   \n",
       "3                                 0                               0   \n",
       "4                                 1                               0   \n",
       "\n",
       "   rest_ecg_left ventricular hypertrophy  rest_ecg_normal  st_slope_flat  \\\n",
       "0                                      0                1              0   \n",
       "1                                      0                1              1   \n",
       "2                                      0                0              0   \n",
       "3                                      0                1              1   \n",
       "4                                      0                1              0   \n",
       "\n",
       "   st_slope_upsloping  \n",
       "0                   1  \n",
       "1                   0  \n",
       "2                   1  \n",
       "3                   0  \n",
       "4                   1  "
      ]
     },
     "execution_count": 15,
     "metadata": {},
     "output_type": "execute_result"
    }
   ],
   "source": [
    "df = pd.read_csv(\"Cleveland_Full.csv\")\n",
    "df.head()"
   ]
  },
  {
   "cell_type": "code",
   "execution_count": 16,
   "id": "54af8a65",
   "metadata": {},
   "outputs": [
    {
     "data": {
      "text/plain": [
       "(288, 16)"
      ]
     },
     "execution_count": 16,
     "metadata": {},
     "output_type": "execute_result"
    }
   ],
   "source": [
    "df.shape"
   ]
  },
  {
   "cell_type": "code",
   "execution_count": 17,
   "id": "00c7cd44",
   "metadata": {},
   "outputs": [],
   "source": [
    "X = df.drop(\"target\", axis=1)"
   ]
  },
  {
   "cell_type": "code",
   "execution_count": 18,
   "id": "a3a57c5d",
   "metadata": {},
   "outputs": [],
   "source": [
    "y = df[\"target\"]"
   ]
  },
  {
   "cell_type": "code",
   "execution_count": 19,
   "id": "0e270fe1",
   "metadata": {},
   "outputs": [
    {
     "name": "stdout",
     "output_type": "stream",
     "text": [
      "-----------remodeled-Training Set------------------\n",
      "(216, 15)\n",
      "(216,)\n"
     ]
    }
   ],
   "source": [
    "X_train2, X_test2, y_train2, y_test2 = train_test_split(X, y, \n",
    "                                                        test_size=0.25, stratify=y,\n",
    "                                                        random_state=5)\n",
    "print('-----------remodeled-Training Set------------------')\n",
    "print(X_train2.shape)\n",
    "print(y_train2.shape)"
   ]
  },
  {
   "cell_type": "markdown",
   "id": "a1188759",
   "metadata": {},
   "source": [
    "### Using the federated models parameters to evaluate dataset with new samples"
   ]
  },
  {
   "cell_type": "code",
   "execution_count": 28,
   "id": "e958f4a2",
   "metadata": {},
   "outputs": [
    {
     "name": "stdout",
     "output_type": "stream",
     "text": [
      "RandomForestClassifier(criterion='entropy', max_depth=7, max_features='log2',\n",
      "                       n_estimators=35, random_state=1)\n",
      "Test Accuracy_4: 97.22222222222221\n",
      "Precision_4: 96.0\n",
      "Recall_4: 96.0\n",
      "f1_score_4: 96.0\n"
     ]
    }
   ],
   "source": [
    "# loading the model from saved file\n",
    "fed_model_3 = load(\"fed_model_3.joblib\")\n",
    "print(fed_model_3)\n",
    "\n",
    "model4 = fed_model_3\n",
    "model4.fit(X_train2,y_train2)\n",
    "pred4 = model4.predict(X_test2)\n",
    "\n",
    "acc4 = accuracy_score(y_test2,pred4)\n",
    "print('Test Accuracy_4:', acc4*100)\n",
    "\n",
    "precision_4 = precision_score(y_test2, pred4)\n",
    "print('Precision_4:', precision_4*100)\n",
    "\n",
    "recall_4 = recall_score(y_test2, pred4)\n",
    "print('Recall_4:', recall_4*100)\n",
    "\n",
    "f1_score_4 = f1_score(y_test2, pred4)\n",
    "print('f1_score_4:', f1_score_4*100)"
   ]
  },
  {
   "cell_type": "code",
   "execution_count": null,
   "id": "690ef949",
   "metadata": {},
   "outputs": [],
   "source": []
  }
 ],
 "metadata": {
  "kernelspec": {
   "display_name": "Python 3 (ipykernel)",
   "language": "python",
   "name": "python3"
  },
  "language_info": {
   "codemirror_mode": {
    "name": "ipython",
    "version": 3
   },
   "file_extension": ".py",
   "mimetype": "text/x-python",
   "name": "python",
   "nbconvert_exporter": "python",
   "pygments_lexer": "ipython3",
   "version": "3.9.7"
  }
 },
 "nbformat": 4,
 "nbformat_minor": 5
}
